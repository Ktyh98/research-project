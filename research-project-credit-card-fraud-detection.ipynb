{
 "cells": [
  {
   "cell_type": "markdown",
   "metadata": {
    "papermill": {
     "duration": 0.045473,
     "end_time": "2023-02-02T17:39:44.689042",
     "exception": false,
     "start_time": "2023-02-02T17:39:44.643569",
     "status": "completed"
    },
    "tags": []
   },
   "source": [
    "# <h1 style=\"font-family: Trebuchet MS; padding: 20px; font-size: 40px; color: #FFD700; text-align: center; line-height: 0.55;background-color: #3B3B3C\"><b>Credit Card Fraud Detection</b><br></h1>"
   ]
  },
  {
   "cell_type": "markdown",
   "metadata": {
    "papermill": {
     "duration": 0.042801,
     "end_time": "2023-02-02T17:39:44.774686",
     "exception": false,
     "start_time": "2023-02-02T17:39:44.731885",
     "status": "completed"
    },
    "tags": []
   },
   "source": [
    "<center>\n",
    "    <img src=\"https://miro.medium.com/max/800/1*MZ0Qqk7xtHdvJJbUTu_1CQ.jpeg\" alt=\"Credit Card Fraud Detection\" width=\"50%\">\n",
    "</center>\n",
    "\n",
    "### Researcher :\n",
    "\n",
    "Name: Kelvin Ting Yi Hao\n",
    "\n",
    "Matric No: 17160070/2\n",
    "     \n",
    "\n",
    "### Problem Statement :\n",
    "\n",
    "In order to help businesses and financial institutions spot fraudulent transactions, machine learning is largely utilised in fraud detection. However, machine learning may have a hard time detecting fraud: \n",
    "Because the number of fraudulent transactions is so small, the data distribution is highly skewed. In order to filter the massive amounts of data created by electronic transactions and turn it into meaningful information, a good feature selection technique is required. Model need to be accessed with relevant evaluation metrics.\n",
    "     \n",
    "**\n",
    "### Research Objective :\n",
    "- RO1: To address the issue of class imbalance including preferred machine learning algorithms and evaluation metrics to assess a predictive model's performance\n",
    "- RO2: To find suitable feature selection technique in order to filter massive amount of data by subset of characteristics capable of identifying the abnormal behaviour\n",
    "- RO3: To identify the suitable evaluation metrics to assess a predictive model's performance\n"
   ]
  },
  {
   "cell_type": "markdown",
   "metadata": {
    "papermill": {
     "duration": 0.04231,
     "end_time": "2023-02-02T17:39:44.860438",
     "exception": false,
     "start_time": "2023-02-02T17:39:44.818128",
     "status": "completed"
    },
    "tags": []
   },
   "source": [
    "### Notebook Contents :\n",
    "- Dataset Information\n",
    "- Data Visualization\n",
    "- Feature Selection\n",
    "- Data Resampling\n",
    "- Modeling\n",
    "- Conclusion\n",
    "\n"
   ]
  },
  {
   "cell_type": "markdown",
   "metadata": {
    "papermill": {
     "duration": 0.041979,
     "end_time": "2023-02-02T17:39:44.945946",
     "exception": false,
     "start_time": "2023-02-02T17:39:44.903967",
     "status": "completed"
    },
    "tags": []
   },
   "source": [
    "# <center><div style=\"font-family: Trebuchet MS; background-color: #3B3B3C; color: #FFD700; padding: 12px; line-height: 1;\">Dataset Information</div></center>"
   ]
  },
  {
   "cell_type": "markdown",
   "metadata": {
    "papermill": {
     "duration": 0.042007,
     "end_time": "2023-02-02T17:39:45.030856",
     "exception": false,
     "start_time": "2023-02-02T17:39:44.988849",
     "status": "completed"
    },
    "tags": []
   },
   "source": [
    "### DataSet :\n",
    "We utilised a publicly available dataset provided by the machine learning department at ULB (Universit Libre de Bruxelles), which contains a record of credit card transactions made by European cardholders over the course of two days in September 2013. \n",
    "There are 284,807 transactions total, and just 492 of them are fake. The dataset is noticeably unequal since just 0.172% of all transactions belong to the positive class. The predictive model has a tendency to favour the majority samples when it is fed a distribution of classes that is substantially asymmetric. It frequently displays a fraudulent transaction as authentic as a consequence.\n",
    "\n",
    "### Dataset Attributes:\n",
    "    \n",
    "- **V1 - V28** : Numerical features that are a result of PCA transformation.\n",
    "\n",
    "- **Time** : Seconds elapsed between each transaction and the 1st transaction.\n",
    "\n",
    "- **Amount** : Transaction amount.\n",
    "\n",
    "- **Class** : Fraud or otherwise (1 or 0)\n",
    "\n",
    "\n"
   ]
  },
  {
   "cell_type": "markdown",
   "metadata": {
    "papermill": {
     "duration": 0.042143,
     "end_time": "2023-02-02T17:39:45.116209",
     "exception": false,
     "start_time": "2023-02-02T17:39:45.074066",
     "status": "completed"
    },
    "tags": []
   },
   "source": [
    "### Import the Necessary Libraries :"
   ]
  },
  {
   "cell_type": "code",
   "execution_count": 1,
   "metadata": {
    "execution": {
     "iopub.execute_input": "2023-02-02T17:39:45.205143Z",
     "iopub.status.busy": "2023-02-02T17:39:45.204441Z",
     "iopub.status.idle": "2023-02-02T17:39:46.092156Z",
     "shell.execute_reply": "2023-02-02T17:39:46.091526Z",
     "shell.execute_reply.started": "2022-10-15T08:23:14.786904Z"
    },
    "papermill": {
     "duration": 0.933297,
     "end_time": "2023-02-02T17:39:46.092294",
     "exception": false,
     "start_time": "2023-02-02T17:39:45.158997",
     "status": "completed"
    },
    "tags": []
   },
   "outputs": [],
   "source": [
    "import pandas as pd\n",
    "import numpy as np\n",
    "import matplotlib.pyplot as plt\n",
    "import seaborn as sns\n",
    "%matplotlib inline\n",
    "pd.options.display.float_format = '{:.2f}'.format"
   ]
  },
  {
   "cell_type": "code",
   "execution_count": 2,
   "metadata": {
    "execution": {
     "iopub.execute_input": "2023-02-02T17:39:46.188795Z",
     "iopub.status.busy": "2023-02-02T17:39:46.188124Z",
     "iopub.status.idle": "2023-02-02T17:39:50.575919Z",
     "shell.execute_reply": "2023-02-02T17:39:50.576530Z",
     "shell.execute_reply.started": "2022-10-15T08:23:15.914139Z"
    },
    "papermill": {
     "duration": 4.440699,
     "end_time": "2023-02-02T17:39:50.576692",
     "exception": false,
     "start_time": "2023-02-02T17:39:46.135993",
     "status": "completed"
    },
    "tags": []
   },
   "outputs": [
    {
     "data": {
      "text/html": [
       "<div>\n",
       "<style scoped>\n",
       "    .dataframe tbody tr th:only-of-type {\n",
       "        vertical-align: middle;\n",
       "    }\n",
       "\n",
       "    .dataframe tbody tr th {\n",
       "        vertical-align: top;\n",
       "    }\n",
       "\n",
       "    .dataframe thead th {\n",
       "        text-align: right;\n",
       "    }\n",
       "</style>\n",
       "<table border=\"1\" class=\"dataframe\">\n",
       "  <thead>\n",
       "    <tr style=\"text-align: right;\">\n",
       "      <th></th>\n",
       "      <th>Time</th>\n",
       "      <th>V1</th>\n",
       "      <th>V2</th>\n",
       "      <th>V3</th>\n",
       "      <th>V4</th>\n",
       "      <th>V5</th>\n",
       "      <th>V6</th>\n",
       "      <th>V7</th>\n",
       "      <th>V8</th>\n",
       "      <th>V9</th>\n",
       "      <th>...</th>\n",
       "      <th>V21</th>\n",
       "      <th>V22</th>\n",
       "      <th>V23</th>\n",
       "      <th>V24</th>\n",
       "      <th>V25</th>\n",
       "      <th>V26</th>\n",
       "      <th>V27</th>\n",
       "      <th>V28</th>\n",
       "      <th>Amount</th>\n",
       "      <th>Class</th>\n",
       "    </tr>\n",
       "  </thead>\n",
       "  <tbody>\n",
       "    <tr>\n",
       "      <th>0</th>\n",
       "      <td>0.00</td>\n",
       "      <td>-1.36</td>\n",
       "      <td>-0.07</td>\n",
       "      <td>2.54</td>\n",
       "      <td>1.38</td>\n",
       "      <td>-0.34</td>\n",
       "      <td>0.46</td>\n",
       "      <td>0.24</td>\n",
       "      <td>0.10</td>\n",
       "      <td>0.36</td>\n",
       "      <td>...</td>\n",
       "      <td>-0.02</td>\n",
       "      <td>0.28</td>\n",
       "      <td>-0.11</td>\n",
       "      <td>0.07</td>\n",
       "      <td>0.13</td>\n",
       "      <td>-0.19</td>\n",
       "      <td>0.13</td>\n",
       "      <td>-0.02</td>\n",
       "      <td>149.62</td>\n",
       "      <td>0</td>\n",
       "    </tr>\n",
       "    <tr>\n",
       "      <th>1</th>\n",
       "      <td>0.00</td>\n",
       "      <td>1.19</td>\n",
       "      <td>0.27</td>\n",
       "      <td>0.17</td>\n",
       "      <td>0.45</td>\n",
       "      <td>0.06</td>\n",
       "      <td>-0.08</td>\n",
       "      <td>-0.08</td>\n",
       "      <td>0.09</td>\n",
       "      <td>-0.26</td>\n",
       "      <td>...</td>\n",
       "      <td>-0.23</td>\n",
       "      <td>-0.64</td>\n",
       "      <td>0.10</td>\n",
       "      <td>-0.34</td>\n",
       "      <td>0.17</td>\n",
       "      <td>0.13</td>\n",
       "      <td>-0.01</td>\n",
       "      <td>0.01</td>\n",
       "      <td>2.69</td>\n",
       "      <td>0</td>\n",
       "    </tr>\n",
       "    <tr>\n",
       "      <th>2</th>\n",
       "      <td>1.00</td>\n",
       "      <td>-1.36</td>\n",
       "      <td>-1.34</td>\n",
       "      <td>1.77</td>\n",
       "      <td>0.38</td>\n",
       "      <td>-0.50</td>\n",
       "      <td>1.80</td>\n",
       "      <td>0.79</td>\n",
       "      <td>0.25</td>\n",
       "      <td>-1.51</td>\n",
       "      <td>...</td>\n",
       "      <td>0.25</td>\n",
       "      <td>0.77</td>\n",
       "      <td>0.91</td>\n",
       "      <td>-0.69</td>\n",
       "      <td>-0.33</td>\n",
       "      <td>-0.14</td>\n",
       "      <td>-0.06</td>\n",
       "      <td>-0.06</td>\n",
       "      <td>378.66</td>\n",
       "      <td>0</td>\n",
       "    </tr>\n",
       "    <tr>\n",
       "      <th>3</th>\n",
       "      <td>1.00</td>\n",
       "      <td>-0.97</td>\n",
       "      <td>-0.19</td>\n",
       "      <td>1.79</td>\n",
       "      <td>-0.86</td>\n",
       "      <td>-0.01</td>\n",
       "      <td>1.25</td>\n",
       "      <td>0.24</td>\n",
       "      <td>0.38</td>\n",
       "      <td>-1.39</td>\n",
       "      <td>...</td>\n",
       "      <td>-0.11</td>\n",
       "      <td>0.01</td>\n",
       "      <td>-0.19</td>\n",
       "      <td>-1.18</td>\n",
       "      <td>0.65</td>\n",
       "      <td>-0.22</td>\n",
       "      <td>0.06</td>\n",
       "      <td>0.06</td>\n",
       "      <td>123.50</td>\n",
       "      <td>0</td>\n",
       "    </tr>\n",
       "    <tr>\n",
       "      <th>4</th>\n",
       "      <td>2.00</td>\n",
       "      <td>-1.16</td>\n",
       "      <td>0.88</td>\n",
       "      <td>1.55</td>\n",
       "      <td>0.40</td>\n",
       "      <td>-0.41</td>\n",
       "      <td>0.10</td>\n",
       "      <td>0.59</td>\n",
       "      <td>-0.27</td>\n",
       "      <td>0.82</td>\n",
       "      <td>...</td>\n",
       "      <td>-0.01</td>\n",
       "      <td>0.80</td>\n",
       "      <td>-0.14</td>\n",
       "      <td>0.14</td>\n",
       "      <td>-0.21</td>\n",
       "      <td>0.50</td>\n",
       "      <td>0.22</td>\n",
       "      <td>0.22</td>\n",
       "      <td>69.99</td>\n",
       "      <td>0</td>\n",
       "    </tr>\n",
       "  </tbody>\n",
       "</table>\n",
       "<p>5 rows × 31 columns</p>\n",
       "</div>"
      ],
      "text/plain": [
       "   Time    V1    V2   V3    V4    V5    V6    V7    V8    V9  ...   V21   V22  \\\n",
       "0  0.00 -1.36 -0.07 2.54  1.38 -0.34  0.46  0.24  0.10  0.36  ... -0.02  0.28   \n",
       "1  0.00  1.19  0.27 0.17  0.45  0.06 -0.08 -0.08  0.09 -0.26  ... -0.23 -0.64   \n",
       "2  1.00 -1.36 -1.34 1.77  0.38 -0.50  1.80  0.79  0.25 -1.51  ...  0.25  0.77   \n",
       "3  1.00 -0.97 -0.19 1.79 -0.86 -0.01  1.25  0.24  0.38 -1.39  ... -0.11  0.01   \n",
       "4  2.00 -1.16  0.88 1.55  0.40 -0.41  0.10  0.59 -0.27  0.82  ... -0.01  0.80   \n",
       "\n",
       "    V23   V24   V25   V26   V27   V28  Amount  Class  \n",
       "0 -0.11  0.07  0.13 -0.19  0.13 -0.02  149.62      0  \n",
       "1  0.10 -0.34  0.17  0.13 -0.01  0.01    2.69      0  \n",
       "2  0.91 -0.69 -0.33 -0.14 -0.06 -0.06  378.66      0  \n",
       "3 -0.19 -1.18  0.65 -0.22  0.06  0.06  123.50      0  \n",
       "4 -0.14  0.14 -0.21  0.50  0.22  0.22   69.99      0  \n",
       "\n",
       "[5 rows x 31 columns]"
      ]
     },
     "execution_count": 2,
     "metadata": {},
     "output_type": "execute_result"
    }
   ],
   "source": [
    "data = pd.read_csv('../input/creditcardfraud/creditcard.csv')\n",
    "data.head()"
   ]
  },
  {
   "cell_type": "markdown",
   "metadata": {
    "papermill": {
     "duration": 0.043157,
     "end_time": "2023-02-02T17:39:50.664220",
     "exception": false,
     "start_time": "2023-02-02T17:39:50.621063",
     "status": "completed"
    },
    "tags": []
   },
   "source": [
    "### Data Info :"
   ]
  },
  {
   "cell_type": "code",
   "execution_count": 3,
   "metadata": {
    "execution": {
     "iopub.execute_input": "2023-02-02T17:39:50.757587Z",
     "iopub.status.busy": "2023-02-02T17:39:50.756545Z",
     "iopub.status.idle": "2023-02-02T17:39:50.760677Z",
     "shell.execute_reply": "2023-02-02T17:39:50.759976Z",
     "shell.execute_reply.started": "2022-10-15T08:23:20.884839Z"
    },
    "papermill": {
     "duration": 0.052498,
     "end_time": "2023-02-02T17:39:50.760800",
     "exception": false,
     "start_time": "2023-02-02T17:39:50.708302",
     "status": "completed"
    },
    "tags": []
   },
   "outputs": [
    {
     "data": {
      "text/plain": [
       "(284807, 31)"
      ]
     },
     "execution_count": 3,
     "metadata": {},
     "output_type": "execute_result"
    }
   ],
   "source": [
    "data.shape"
   ]
  },
  {
   "cell_type": "code",
   "execution_count": 4,
   "metadata": {
    "execution": {
     "iopub.execute_input": "2023-02-02T17:39:50.858815Z",
     "iopub.status.busy": "2023-02-02T17:39:50.857692Z",
     "iopub.status.idle": "2023-02-02T17:39:50.865451Z",
     "shell.execute_reply": "2023-02-02T17:39:50.864628Z",
     "shell.execute_reply.started": "2022-10-15T08:23:20.892603Z"
    },
    "papermill": {
     "duration": 0.060777,
     "end_time": "2023-02-02T17:39:50.865625",
     "exception": false,
     "start_time": "2023-02-02T17:39:50.804848",
     "status": "completed"
    },
    "scrolled": true,
    "tags": []
   },
   "outputs": [
    {
     "data": {
      "text/plain": [
       "Index(['Time', 'V1', 'V2', 'V3', 'V4', 'V5', 'V6', 'V7', 'V8', 'V9', 'V10',\n",
       "       'V11', 'V12', 'V13', 'V14', 'V15', 'V16', 'V17', 'V18', 'V19', 'V20',\n",
       "       'V21', 'V22', 'V23', 'V24', 'V25', 'V26', 'V27', 'V28', 'Amount',\n",
       "       'Class'],\n",
       "      dtype='object')"
      ]
     },
     "execution_count": 4,
     "metadata": {},
     "output_type": "execute_result"
    }
   ],
   "source": [
    "data.columns"
   ]
  },
  {
   "cell_type": "code",
   "execution_count": 5,
   "metadata": {
    "execution": {
     "iopub.execute_input": "2023-02-02T17:39:50.983141Z",
     "iopub.status.busy": "2023-02-02T17:39:50.981696Z",
     "iopub.status.idle": "2023-02-02T17:39:51.024412Z",
     "shell.execute_reply": "2023-02-02T17:39:51.023630Z",
     "shell.execute_reply.started": "2022-10-15T08:23:20.920464Z"
    },
    "papermill": {
     "duration": 0.10483,
     "end_time": "2023-02-02T17:39:51.024605",
     "exception": false,
     "start_time": "2023-02-02T17:39:50.919775",
     "status": "completed"
    },
    "tags": []
   },
   "outputs": [
    {
     "name": "stdout",
     "output_type": "stream",
     "text": [
      "<class 'pandas.core.frame.DataFrame'>\n",
      "RangeIndex: 284807 entries, 0 to 284806\n",
      "Data columns (total 31 columns):\n",
      " #   Column  Non-Null Count   Dtype  \n",
      "---  ------  --------------   -----  \n",
      " 0   Time    284807 non-null  float64\n",
      " 1   V1      284807 non-null  float64\n",
      " 2   V2      284807 non-null  float64\n",
      " 3   V3      284807 non-null  float64\n",
      " 4   V4      284807 non-null  float64\n",
      " 5   V5      284807 non-null  float64\n",
      " 6   V6      284807 non-null  float64\n",
      " 7   V7      284807 non-null  float64\n",
      " 8   V8      284807 non-null  float64\n",
      " 9   V9      284807 non-null  float64\n",
      " 10  V10     284807 non-null  float64\n",
      " 11  V11     284807 non-null  float64\n",
      " 12  V12     284807 non-null  float64\n",
      " 13  V13     284807 non-null  float64\n",
      " 14  V14     284807 non-null  float64\n",
      " 15  V15     284807 non-null  float64\n",
      " 16  V16     284807 non-null  float64\n",
      " 17  V17     284807 non-null  float64\n",
      " 18  V18     284807 non-null  float64\n",
      " 19  V19     284807 non-null  float64\n",
      " 20  V20     284807 non-null  float64\n",
      " 21  V21     284807 non-null  float64\n",
      " 22  V22     284807 non-null  float64\n",
      " 23  V23     284807 non-null  float64\n",
      " 24  V24     284807 non-null  float64\n",
      " 25  V25     284807 non-null  float64\n",
      " 26  V26     284807 non-null  float64\n",
      " 27  V27     284807 non-null  float64\n",
      " 28  V28     284807 non-null  float64\n",
      " 29  Amount  284807 non-null  float64\n",
      " 30  Class   284807 non-null  int64  \n",
      "dtypes: float64(30), int64(1)\n",
      "memory usage: 67.4 MB\n"
     ]
    }
   ],
   "source": [
    "data.info()"
   ]
  },
  {
   "cell_type": "code",
   "execution_count": 6,
   "metadata": {
    "execution": {
     "iopub.execute_input": "2023-02-02T17:39:51.121819Z",
     "iopub.status.busy": "2023-02-02T17:39:51.120539Z",
     "iopub.status.idle": "2023-02-02T17:39:58.513329Z",
     "shell.execute_reply": "2023-02-02T17:39:58.513837Z",
     "shell.execute_reply.started": "2022-10-15T08:23:20.978235Z"
    },
    "papermill": {
     "duration": 7.444457,
     "end_time": "2023-02-02T17:39:58.514035",
     "exception": false,
     "start_time": "2023-02-02T17:39:51.069578",
     "status": "completed"
    },
    "tags": []
   },
   "outputs": [
    {
     "data": {
      "text/plain": [
       "<matplotlib.axes._subplots.AxesSubplot at 0x7f124c4116d0>"
      ]
     },
     "execution_count": 6,
     "metadata": {},
     "output_type": "execute_result"
    },
    {
     "data": {
      "image/png": "[encoded data removed]",
      "text/plain": [
       "<Figure size 432x288 with 1 Axes>"
      ]
     },
     "metadata": {
      "needs_background": "light"
     },
     "output_type": "display_data"
    }
   ],
   "source": [
    "sns.heatmap(data.isnull(),cmap = 'magma',cbar = False)"
   ]
  },
  {
   "cell_type": "markdown",
   "metadata": {
    "papermill": {
     "duration": 0.045285,
     "end_time": "2023-02-02T17:39:58.605749",
     "exception": false,
     "start_time": "2023-02-02T17:39:58.560464",
     "status": "completed"
    },
    "tags": []
   },
   "source": [
    "- **No null values** present in the data!"
   ]
  },
  {
   "cell_type": "code",
   "execution_count": 7,
   "metadata": {
    "execution": {
     "iopub.execute_input": "2023-02-02T17:39:58.733797Z",
     "iopub.status.busy": "2023-02-02T17:39:58.732737Z",
     "iopub.status.idle": "2023-02-02T17:39:59.150852Z",
     "shell.execute_reply": "2023-02-02T17:39:59.150130Z",
     "shell.execute_reply.started": "2022-10-15T08:23:28.672348Z"
    },
    "papermill": {
     "duration": 0.499282,
     "end_time": "2023-02-02T17:39:59.150986",
     "exception": false,
     "start_time": "2023-02-02T17:39:58.651704",
     "status": "completed"
    },
    "tags": []
   },
   "outputs": [
    {
     "data": {
      "text/html": [
       "<div>\n",
       "<style scoped>\n",
       "    .dataframe tbody tr th:only-of-type {\n",
       "        vertical-align: middle;\n",
       "    }\n",
       "\n",
       "    .dataframe tbody tr th {\n",
       "        vertical-align: top;\n",
       "    }\n",
       "\n",
       "    .dataframe thead th {\n",
       "        text-align: right;\n",
       "    }\n",
       "</style>\n",
       "<table border=\"1\" class=\"dataframe\">\n",
       "  <thead>\n",
       "    <tr style=\"text-align: right;\">\n",
       "      <th></th>\n",
       "      <th>Time</th>\n",
       "      <th>V1</th>\n",
       "      <th>V2</th>\n",
       "      <th>V3</th>\n",
       "      <th>V4</th>\n",
       "      <th>V5</th>\n",
       "      <th>V6</th>\n",
       "      <th>V7</th>\n",
       "      <th>V8</th>\n",
       "      <th>V9</th>\n",
       "      <th>...</th>\n",
       "      <th>V21</th>\n",
       "      <th>V22</th>\n",
       "      <th>V23</th>\n",
       "      <th>V24</th>\n",
       "      <th>V25</th>\n",
       "      <th>V26</th>\n",
       "      <th>V27</th>\n",
       "      <th>V28</th>\n",
       "      <th>Amount</th>\n",
       "      <th>Class</th>\n",
       "    </tr>\n",
       "  </thead>\n",
       "  <tbody>\n",
       "    <tr>\n",
       "      <th>count</th>\n",
       "      <td>284807.00</td>\n",
       "      <td>284807.00</td>\n",
       "      <td>284807.00</td>\n",
       "      <td>284807.00</td>\n",
       "      <td>284807.00</td>\n",
       "      <td>284807.00</td>\n",
       "      <td>284807.00</td>\n",
       "      <td>284807.00</td>\n",
       "      <td>284807.00</td>\n",
       "      <td>284807.00</td>\n",
       "      <td>...</td>\n",
       "      <td>284807.00</td>\n",
       "      <td>284807.00</td>\n",
       "      <td>284807.00</td>\n",
       "      <td>284807.00</td>\n",
       "      <td>284807.00</td>\n",
       "      <td>284807.00</td>\n",
       "      <td>284807.00</td>\n",
       "      <td>284807.00</td>\n",
       "      <td>284807.00</td>\n",
       "      <td>284807.00</td>\n",
       "    </tr>\n",
       "    <tr>\n",
       "      <th>mean</th>\n",
       "      <td>94813.86</td>\n",
       "      <td>0.00</td>\n",
       "      <td>0.00</td>\n",
       "      <td>-0.00</td>\n",
       "      <td>0.00</td>\n",
       "      <td>-0.00</td>\n",
       "      <td>0.00</td>\n",
       "      <td>-0.00</td>\n",
       "      <td>-0.00</td>\n",
       "      <td>-0.00</td>\n",
       "      <td>...</td>\n",
       "      <td>0.00</td>\n",
       "      <td>0.00</td>\n",
       "      <td>0.00</td>\n",
       "      <td>0.00</td>\n",
       "      <td>0.00</td>\n",
       "      <td>0.00</td>\n",
       "      <td>-0.00</td>\n",
       "      <td>-0.00</td>\n",
       "      <td>88.35</td>\n",
       "      <td>0.00</td>\n",
       "    </tr>\n",
       "    <tr>\n",
       "      <th>std</th>\n",
       "      <td>47488.15</td>\n",
       "      <td>1.96</td>\n",
       "      <td>1.65</td>\n",
       "      <td>1.52</td>\n",
       "      <td>1.42</td>\n",
       "      <td>1.38</td>\n",
       "      <td>1.33</td>\n",
       "      <td>1.24</td>\n",
       "      <td>1.19</td>\n",
       "      <td>1.10</td>\n",
       "      <td>...</td>\n",
       "      <td>0.73</td>\n",
       "      <td>0.73</td>\n",
       "      <td>0.62</td>\n",
       "      <td>0.61</td>\n",
       "      <td>0.52</td>\n",
       "      <td>0.48</td>\n",
       "      <td>0.40</td>\n",
       "      <td>0.33</td>\n",
       "      <td>250.12</td>\n",
       "      <td>0.04</td>\n",
       "    </tr>\n",
       "    <tr>\n",
       "      <th>min</th>\n",
       "      <td>0.00</td>\n",
       "      <td>-56.41</td>\n",
       "      <td>-72.72</td>\n",
       "      <td>-48.33</td>\n",
       "      <td>-5.68</td>\n",
       "      <td>-113.74</td>\n",
       "      <td>-26.16</td>\n",
       "      <td>-43.56</td>\n",
       "      <td>-73.22</td>\n",
       "      <td>-13.43</td>\n",
       "      <td>...</td>\n",
       "      <td>-34.83</td>\n",
       "      <td>-10.93</td>\n",
       "      <td>-44.81</td>\n",
       "      <td>-2.84</td>\n",
       "      <td>-10.30</td>\n",
       "      <td>-2.60</td>\n",
       "      <td>-22.57</td>\n",
       "      <td>-15.43</td>\n",
       "      <td>0.00</td>\n",
       "      <td>0.00</td>\n",
       "    </tr>\n",
       "    <tr>\n",
       "      <th>25%</th>\n",
       "      <td>54201.50</td>\n",
       "      <td>-0.92</td>\n",
       "      <td>-0.60</td>\n",
       "      <td>-0.89</td>\n",
       "      <td>-0.85</td>\n",
       "      <td>-0.69</td>\n",
       "      <td>-0.77</td>\n",
       "      <td>-0.55</td>\n",
       "      <td>-0.21</td>\n",
       "      <td>-0.64</td>\n",
       "      <td>...</td>\n",
       "      <td>-0.23</td>\n",
       "      <td>-0.54</td>\n",
       "      <td>-0.16</td>\n",
       "      <td>-0.35</td>\n",
       "      <td>-0.32</td>\n",
       "      <td>-0.33</td>\n",
       "      <td>-0.07</td>\n",
       "      <td>-0.05</td>\n",
       "      <td>5.60</td>\n",
       "      <td>0.00</td>\n",
       "    </tr>\n",
       "    <tr>\n",
       "      <th>50%</th>\n",
       "      <td>84692.00</td>\n",
       "      <td>0.02</td>\n",
       "      <td>0.07</td>\n",
       "      <td>0.18</td>\n",
       "      <td>-0.02</td>\n",
       "      <td>-0.05</td>\n",
       "      <td>-0.27</td>\n",
       "      <td>0.04</td>\n",
       "      <td>0.02</td>\n",
       "      <td>-0.05</td>\n",
       "      <td>...</td>\n",
       "      <td>-0.03</td>\n",
       "      <td>0.01</td>\n",
       "      <td>-0.01</td>\n",
       "      <td>0.04</td>\n",
       "      <td>0.02</td>\n",
       "      <td>-0.05</td>\n",
       "      <td>0.00</td>\n",
       "      <td>0.01</td>\n",
       "      <td>22.00</td>\n",
       "      <td>0.00</td>\n",
       "    </tr>\n",
       "    <tr>\n",
       "      <th>75%</th>\n",
       "      <td>139320.50</td>\n",
       "      <td>1.32</td>\n",
       "      <td>0.80</td>\n",
       "      <td>1.03</td>\n",
       "      <td>0.74</td>\n",
       "      <td>0.61</td>\n",
       "      <td>0.40</td>\n",
       "      <td>0.57</td>\n",
       "      <td>0.33</td>\n",
       "      <td>0.60</td>\n",
       "      <td>...</td>\n",
       "      <td>0.19</td>\n",
       "      <td>0.53</td>\n",
       "      <td>0.15</td>\n",
       "      <td>0.44</td>\n",
       "      <td>0.35</td>\n",
       "      <td>0.24</td>\n",
       "      <td>0.09</td>\n",
       "      <td>0.08</td>\n",
       "      <td>77.16</td>\n",
       "      <td>0.00</td>\n",
       "    </tr>\n",
       "    <tr>\n",
       "      <th>max</th>\n",
       "      <td>172792.00</td>\n",
       "      <td>2.45</td>\n",
       "      <td>22.06</td>\n",
       "      <td>9.38</td>\n",
       "      <td>16.88</td>\n",
       "      <td>34.80</td>\n",
       "      <td>73.30</td>\n",
       "      <td>120.59</td>\n",
       "      <td>20.01</td>\n",
       "      <td>15.59</td>\n",
       "      <td>...</td>\n",
       "      <td>27.20</td>\n",
       "      <td>10.50</td>\n",
       "      <td>22.53</td>\n",
       "      <td>4.58</td>\n",
       "      <td>7.52</td>\n",
       "      <td>3.52</td>\n",
       "      <td>31.61</td>\n",
       "      <td>33.85</td>\n",
       "      <td>25691.16</td>\n",
       "      <td>1.00</td>\n",
       "    </tr>\n",
       "  </tbody>\n",
       "</table>\n",
       "<p>8 rows × 31 columns</p>\n",
       "</div>"
      ],
      "text/plain": [
       "           Time        V1        V2        V3        V4        V5        V6  \\\n",
       "count 284807.00 284807.00 284807.00 284807.00 284807.00 284807.00 284807.00   \n",
       "mean   94813.86      0.00      0.00     -0.00      0.00     -0.00      0.00   \n",
       "std    47488.15      1.96      1.65      1.52      1.42      1.38      1.33   \n",
       "min        0.00    -56.41    -72.72    -48.33     -5.68   -113.74    -26.16   \n",
       "25%    54201.50     -0.92     -0.60     -0.89     -0.85     -0.69     -0.77   \n",
       "50%    84692.00      0.02      0.07      0.18     -0.02     -0.05     -0.27   \n",
       "75%   139320.50      1.32      0.80      1.03      0.74      0.61      0.40   \n",
       "max   172792.00      2.45     22.06      9.38     16.88     34.80     73.30   \n",
       "\n",
       "             V7        V8        V9  ...       V21       V22       V23  \\\n",
       "count 284807.00 284807.00 284807.00  ... 284807.00 284807.00 284807.00   \n",
       "mean      -0.00     -0.00     -0.00  ...      0.00      0.00      0.00   \n",
       "std        1.24      1.19      1.10  ...      0.73      0.73      0.62   \n",
       "min      -43.56    -73.22    -13.43  ...    -34.83    -10.93    -44.81   \n",
       "25%       -0.55     -0.21     -0.64  ...     -0.23     -0.54     -0.16   \n",
       "50%        0.04      0.02     -0.05  ...     -0.03      0.01     -0.01   \n",
       "75%        0.57      0.33      0.60  ...      0.19      0.53      0.15   \n",
       "max      120.59     20.01     15.59  ...     27.20     10.50     22.53   \n",
       "\n",
       "            V24       V25       V26       V27       V28    Amount     Class  \n",
       "count 284807.00 284807.00 284807.00 284807.00 284807.00 284807.00 284807.00  \n",
       "mean       0.00      0.00      0.00     -0.00     -0.00     88.35      0.00  \n",
       "std        0.61      0.52      0.48      0.40      0.33    250.12      0.04  \n",
       "min       -2.84    -10.30     -2.60    -22.57    -15.43      0.00      0.00  \n",
       "25%       -0.35     -0.32     -0.33     -0.07     -0.05      5.60      0.00  \n",
       "50%        0.04      0.02     -0.05      0.00      0.01     22.00      0.00  \n",
       "75%        0.44      0.35      0.24      0.09      0.08     77.16      0.00  \n",
       "max        4.58      7.52      3.52     31.61     33.85  25691.16      1.00  \n",
       "\n",
       "[8 rows x 31 columns]"
      ]
     },
     "execution_count": 7,
     "metadata": {},
     "output_type": "execute_result"
    }
   ],
   "source": [
    "data.describe()"
   ]
  },
  {
   "cell_type": "code",
   "execution_count": 8,
   "metadata": {
    "execution": {
     "iopub.execute_input": "2023-02-02T17:39:59.261023Z",
     "iopub.status.busy": "2023-02-02T17:39:59.260203Z",
     "iopub.status.idle": "2023-02-02T17:40:01.075441Z",
     "shell.execute_reply": "2023-02-02T17:40:01.076035Z",
     "shell.execute_reply.started": "2022-10-15T08:23:29.167463Z"
    },
    "papermill": {
     "duration": 1.876092,
     "end_time": "2023-02-02T17:40:01.076217",
     "exception": false,
     "start_time": "2023-02-02T17:39:59.200125",
     "status": "completed"
    },
    "tags": []
   },
   "outputs": [
    {
     "data": {
      "image/png": "[encoded data removed]",
      "text/plain": [
       "<Figure size 360x1080 with 4 Axes>"
      ]
     },
     "metadata": {
      "needs_background": "light"
     },
     "output_type": "display_data"
    }
   ],
   "source": [
    "fraud = data[data['Class'] == 1].describe().T\n",
    "nofraud = data[data['Class'] == 0].describe().T\n",
    "\n",
    "colors = ['#FFD700','#3B3B3C']\n",
    "\n",
    "fig,ax = plt.subplots(nrows = 2,ncols = 2,figsize = (5,15))\n",
    "plt.subplot(2,2,1)\n",
    "sns.heatmap(fraud[['mean']][:15],annot = True,cmap = colors,linewidths = 0.5,linecolor = 'black',cbar = False,fmt = '.2f')\n",
    "plt.title('Fraud Samples : Part 1');\n",
    "\n",
    "plt.subplot(2,2,2)\n",
    "sns.heatmap(fraud[['mean']][15:30],annot = True,cmap = colors,linewidths = 0.5,linecolor = 'black',cbar = False,fmt = '.2f')\n",
    "plt.title('Fraud Samples : Part 2');\n",
    "\n",
    "plt.subplot(2,2,3)\n",
    "sns.heatmap(nofraud[['mean']][:15],annot = True,cmap = colors,linewidths = 0.5,linecolor = 'black',cbar = False,fmt = '.2f')\n",
    "plt.title('No Fraud Samples : Part 1');\n",
    "\n",
    "plt.subplot(2,2,4)\n",
    "sns.heatmap(nofraud[['mean']][15:30],annot = True,cmap = colors,linewidths = 0.5,linecolor = 'black',cbar = False,fmt = '.2f')\n",
    "plt.title('No Fraud Samples : Part 2');\n",
    "\n",
    "fig.tight_layout(w_pad = 2)"
   ]
  },
  {
   "cell_type": "markdown",
   "metadata": {
    "papermill": {
     "duration": 0.049196,
     "end_time": "2023-02-02T17:40:01.174739",
     "exception": false,
     "start_time": "2023-02-02T17:40:01.125543",
     "status": "completed"
    },
    "tags": []
   },
   "source": [
    "- **Mean** values of features for **Fraud** & **No Fraud** cases!\n",
    "- For **No Fraud** cases, **V1 - V28** mean values are almost **0** for all the cases. Mean **Amount**, 88.29, is less than the mean transaction amount, 122.21, of the **Fraud** cases.\n",
    "- **Time** taken for **No Fraud** transactions is more than those for **Fraud** transactions.\n",
    "- These could be some of the indicators for detecting **fraud** transactions."
   ]
  },
  {
   "cell_type": "markdown",
   "metadata": {
    "papermill": {
     "duration": 0.049322,
     "end_time": "2023-02-02T17:40:01.272800",
     "exception": false,
     "start_time": "2023-02-02T17:40:01.223478",
     "status": "completed"
    },
    "tags": []
   },
   "source": [
    "# <center><div style=\"font-family: Trebuchet MS; background-color: #3B3B3C; color: #FFD700; padding: 12px; line-height: 1;\">Data Visualization</div></center>"
   ]
  },
  {
   "cell_type": "markdown",
   "metadata": {
    "papermill": {
     "duration": 0.047821,
     "end_time": "2023-02-02T17:40:01.368680",
     "exception": false,
     "start_time": "2023-02-02T17:40:01.320859",
     "status": "completed"
    },
    "tags": []
   },
   "source": [
    "### Target Variable Visualization (Class) : "
   ]
  },
  {
   "cell_type": "code",
   "execution_count": 9,
   "metadata": {
    "execution": {
     "iopub.execute_input": "2023-02-02T17:40:01.478443Z",
     "iopub.status.busy": "2023-02-02T17:40:01.477296Z",
     "iopub.status.idle": "2023-02-02T17:40:01.725586Z",
     "shell.execute_reply": "2023-02-02T17:40:01.724916Z",
     "shell.execute_reply.started": "2022-10-15T08:23:31.075268Z"
    },
    "papermill": {
     "duration": 0.307817,
     "end_time": "2023-02-02T17:40:01.725713",
     "exception": false,
     "start_time": "2023-02-02T17:40:01.417896",
     "status": "completed"
    },
    "tags": []
   },
   "outputs": [
    {
     "data": {
      "image/png": "[encoded data removed]",
      "text/plain": [
       "<Figure size 1440x360 with 2 Axes>"
      ]
     },
     "metadata": {
      "needs_background": "light"
     },
     "output_type": "display_data"
    }
   ],
   "source": [
    "fraud = len(data[data['Class'] == 1]) / len(data) * 100\n",
    "nofraud = len(data[data['Class'] == 0]) / len(data) * 100\n",
    "fraud_percentage = [nofraud,fraud]\n",
    "\n",
    "fig,ax = plt.subplots(nrows = 1,ncols = 2,figsize = (20,5))\n",
    "plt.subplot(1,2,1)\n",
    "plt.pie(fraud_percentage,labels = ['Fraud','No Fraud'],autopct='%1.1f%%',startangle = 90,colors = colors,\n",
    "       wedgeprops = {'edgecolor' : 'black','linewidth': 1,'antialiased' : True})\n",
    "\n",
    "plt.subplot(1,2,2)\n",
    "ax = sns.countplot('Class',data = data,edgecolor = 'black',palette = colors)\n",
    "for rect in ax.patches:\n",
    "    ax.text(rect.get_x() + rect.get_width() / 2, rect.get_height() + 2, rect.get_height(), horizontalalignment='center', fontsize = 11)\n",
    "ax.set_xticklabels(['No Fraud','Fraud'])\n",
    "plt.title('Number of Fraud Cases');"
   ]
  },
  {
   "cell_type": "markdown",
   "metadata": {
    "papermill": {
     "duration": 0.049057,
     "end_time": "2023-02-02T17:40:01.824843",
     "exception": false,
     "start_time": "2023-02-02T17:40:01.775786",
     "status": "completed"
    },
    "tags": []
   },
   "source": [
    "- The data is clearly **highly unbalanced** with majority of the transactions being **No Fraud**. \n",
    "- Due to highly unbalanced data, the classification model will bias its prediction towards the majority class, **No Fraud**. \n",
    "- Hence, data balancing becomes a crucial part in building a robust model. "
   ]
  },
  {
   "cell_type": "markdown",
   "metadata": {
    "papermill": {
     "duration": 0.067802,
     "end_time": "2023-02-02T17:40:01.946551",
     "exception": false,
     "start_time": "2023-02-02T17:40:01.878749",
     "status": "completed"
    },
    "tags": []
   },
   "source": [
    "# <center><div style=\"font-family: Trebuchet MS; background-color: #3B3B3C; color: #FFD700; padding: 12px; line-height: 1;\">Feature Selection</div></center>"
   ]
  },
  {
   "cell_type": "markdown",
   "metadata": {
    "papermill": {
     "duration": 0.049891,
     "end_time": "2023-02-02T17:40:02.052510",
     "exception": false,
     "start_time": "2023-02-02T17:40:02.002619",
     "status": "completed"
    },
    "tags": []
   },
   "source": [
    "### Correlation Matrix :"
   ]
  },
  {
   "cell_type": "code",
   "execution_count": 10,
   "metadata": {
    "execution": {
     "iopub.execute_input": "2023-02-02T17:40:02.158699Z",
     "iopub.status.busy": "2023-02-02T17:40:02.157986Z",
     "iopub.status.idle": "2023-02-02T17:40:03.068702Z",
     "shell.execute_reply": "2023-02-02T17:40:03.069268Z",
     "shell.execute_reply.started": "2022-10-15T08:23:31.344317Z"
    },
    "papermill": {
     "duration": 0.966692,
     "end_time": "2023-02-02T17:40:03.069427",
     "exception": false,
     "start_time": "2023-02-02T17:40:02.102735",
     "status": "completed"
    },
    "tags": []
   },
   "outputs": [
    {
     "data": {
      "text/plain": [
       "<matplotlib.axes._subplots.AxesSubplot at 0x7f1245f4af90>"
      ]
     },
     "execution_count": 10,
     "metadata": {},
     "output_type": "execute_result"
    },
    {
     "data": {
      "image/png": "[encoded data removed]",
      "text/plain": [
       "<Figure size 432x288 with 2 Axes>"
      ]
     },
     "metadata": {
      "needs_background": "light"
     },
     "output_type": "display_data"
    }
   ],
   "source": [
    "sns.heatmap(data.corr(),cmap = colors,cbar = True)"
   ]
  },
  {
   "cell_type": "markdown",
   "metadata": {
    "papermill": {
     "duration": 0.051778,
     "end_time": "2023-02-02T17:40:03.172043",
     "exception": false,
     "start_time": "2023-02-02T17:40:03.120265",
     "status": "completed"
    },
    "tags": []
   },
   "source": [
    "- There are too many features in the dataset and it is difficult to understand anything. \n",
    "- Hence, we will plot the correlation map only with the target variable."
   ]
  },
  {
   "cell_type": "code",
   "execution_count": 11,
   "metadata": {
    "execution": {
     "iopub.execute_input": "2023-02-02T17:40:03.278313Z",
     "iopub.status.busy": "2023-02-02T17:40:03.277599Z",
     "iopub.status.idle": "2023-02-02T17:40:03.869572Z",
     "shell.execute_reply": "2023-02-02T17:40:03.868723Z",
     "shell.execute_reply.started": "2022-10-15T08:23:32.299554Z"
    },
    "papermill": {
     "duration": 0.647478,
     "end_time": "2023-02-02T17:40:03.869712",
     "exception": false,
     "start_time": "2023-02-02T17:40:03.222234",
     "status": "completed"
    },
    "tags": []
   },
   "outputs": [
    {
     "data": {
      "image/png": "[encoded data removed]",
      "text/plain": [
       "<Figure size 360x720 with 2 Axes>"
      ]
     },
     "metadata": {
      "needs_background": "light"
     },
     "output_type": "display_data"
    }
   ],
   "source": [
    "corr = data.corrwith(data['Class']).sort_values(ascending = False).to_frame()\n",
    "corr.columns = ['Correlation']\n",
    "fig,ax = plt.subplots(nrows = 1,ncols = 2,figsize = (5,10))\n",
    "\n",
    "plt.subplot(1,2,1)\n",
    "sns.heatmap(corr.iloc[:15,:],annot = True,cmap = colors,linewidths = 0.4,linecolor = 'black',cbar = False)\n",
    "plt.title('Part 1')\n",
    "\n",
    "plt.subplot(1,2,2)\n",
    "sns.heatmap(corr.iloc[15:30],annot = True,cmap = colors,linewidths = 0.4,linecolor = 'black',cbar = False)\n",
    "plt.title('Part 2')\n",
    "\n",
    "fig.tight_layout(w_pad = 2)"
   ]
  },
  {
   "cell_type": "markdown",
   "metadata": {
    "papermill": {
     "duration": 0.051902,
     "end_time": "2023-02-02T17:40:03.974241",
     "exception": false,
     "start_time": "2023-02-02T17:40:03.922339",
     "status": "completed"
    },
    "tags": []
   },
   "source": [
    "- For feature selection, we will **exclude** the features having correlation values between **[-0.1,0.1]**.\n",
    "- V4, V11 are positively correlated and V7, V3, V16, V10, V12, V14, V17 are negatively correlated with the **Class** feature."
   ]
  },
  {
   "cell_type": "markdown",
   "metadata": {
    "papermill": {
     "duration": 0.051006,
     "end_time": "2023-02-02T17:40:04.077310",
     "exception": false,
     "start_time": "2023-02-02T17:40:04.026304",
     "status": "completed"
    },
    "tags": []
   },
   "source": [
    "### ANOVA Test :"
   ]
  },
  {
   "cell_type": "code",
   "execution_count": 12,
   "metadata": {
    "execution": {
     "iopub.execute_input": "2023-02-02T17:40:04.185809Z",
     "iopub.status.busy": "2023-02-02T17:40:04.185141Z",
     "iopub.status.idle": "2023-02-02T17:40:04.421768Z",
     "shell.execute_reply": "2023-02-02T17:40:04.422389Z",
     "shell.execute_reply.started": "2022-10-15T08:23:32.985591Z"
    },
    "papermill": {
     "duration": 0.293423,
     "end_time": "2023-02-02T17:40:04.422549",
     "exception": false,
     "start_time": "2023-02-02T17:40:04.129126",
     "status": "completed"
    },
    "tags": []
   },
   "outputs": [],
   "source": [
    "from sklearn.feature_selection import SelectKBest\n",
    "from sklearn.feature_selection import f_classif"
   ]
  },
  {
   "cell_type": "code",
   "execution_count": 13,
   "metadata": {
    "execution": {
     "iopub.execute_input": "2023-02-02T17:40:04.531196Z",
     "iopub.status.busy": "2023-02-02T17:40:04.530417Z",
     "iopub.status.idle": "2023-02-02T17:40:05.175490Z",
     "shell.execute_reply": "2023-02-02T17:40:05.176060Z",
     "shell.execute_reply.started": "2022-10-15T08:23:33.259096Z"
    },
    "papermill": {
     "duration": 0.700412,
     "end_time": "2023-02-02T17:40:05.176225",
     "exception": false,
     "start_time": "2023-02-02T17:40:04.475813",
     "status": "completed"
    },
    "tags": []
   },
   "outputs": [
    {
     "data": {
      "image/png": "[encoded data removed]",
      "text/plain": [
       "<Figure size 360x720 with 2 Axes>"
      ]
     },
     "metadata": {
      "needs_background": "light"
     },
     "output_type": "display_data"
    }
   ],
   "source": [
    "features = data.loc[:,:'Amount']\n",
    "target = data.loc[:,'Class']\n",
    "\n",
    "best_features = SelectKBest(score_func = f_classif,k = 'all')\n",
    "fit = best_features.fit(features,target)\n",
    "\n",
    "featureScores = pd.DataFrame(data = fit.scores_,index = list(features.columns),columns = ['ANOVA Score']) \n",
    "featureScores = featureScores.sort_values(ascending = False,by = 'ANOVA Score')\n",
    "\n",
    "fig,ax = plt.subplots(nrows = 1,ncols = 2,figsize = (5,10))\n",
    "\n",
    "plt.subplot(1,2,1)\n",
    "sns.heatmap(featureScores.iloc[:15,:],annot = True,cmap = colors,linewidths = 0.4,linecolor = 'black',cbar = False, fmt = '.2f')\n",
    "plt.title('ANOVA Score : Part 1')\n",
    "\n",
    "plt.subplot(1,2,2)\n",
    "sns.heatmap(featureScores.iloc[15:30],annot = True,cmap = colors,linewidths = 0.4,linecolor = 'black',cbar = False, fmt = '.2f')\n",
    "plt.title('ANOVA Score : Part 2')\n",
    "\n",
    "fig.tight_layout(w_pad = 2)"
   ]
  },
  {
   "cell_type": "markdown",
   "metadata": {
    "papermill": {
     "duration": 0.052677,
     "end_time": "2023-02-02T17:40:05.282286",
     "exception": false,
     "start_time": "2023-02-02T17:40:05.229609",
     "status": "completed"
    },
    "tags": []
   },
   "source": [
    "- Higher the value of the ANOVA score, higher the importance of that feature with the target variable.\n",
    "- From the above plot, we will reject features with values less than 50.\n",
    "- In this case, we will create 2 models based on features selected from the **Correlation Plot** & **ANOVA Score**."
   ]
  },
  {
   "cell_type": "markdown",
   "metadata": {
    "papermill": {
     "duration": 0.053364,
     "end_time": "2023-02-02T17:40:05.388851",
     "exception": false,
     "start_time": "2023-02-02T17:40:05.335487",
     "status": "completed"
    },
    "tags": []
   },
   "source": [
    "#### Dataset for Model based on Correlation Plot :"
   ]
  },
  {
   "cell_type": "code",
   "execution_count": 14,
   "metadata": {
    "execution": {
     "iopub.execute_input": "2023-02-02T17:40:05.515346Z",
     "iopub.status.busy": "2023-02-02T17:40:05.513413Z",
     "iopub.status.idle": "2023-02-02T17:40:05.534057Z",
     "shell.execute_reply": "2023-02-02T17:40:05.533335Z",
     "shell.execute_reply.started": "2022-10-15T08:23:34.073254Z"
    },
    "papermill": {
     "duration": 0.091716,
     "end_time": "2023-02-02T17:40:05.534192",
     "exception": false,
     "start_time": "2023-02-02T17:40:05.442476",
     "status": "completed"
    },
    "tags": []
   },
   "outputs": [
    {
     "data": {
      "text/html": [
       "<div>\n",
       "<style scoped>\n",
       "    .dataframe tbody tr th:only-of-type {\n",
       "        vertical-align: middle;\n",
       "    }\n",
       "\n",
       "    .dataframe tbody tr th {\n",
       "        vertical-align: top;\n",
       "    }\n",
       "\n",
       "    .dataframe thead th {\n",
       "        text-align: right;\n",
       "    }\n",
       "</style>\n",
       "<table border=\"1\" class=\"dataframe\">\n",
       "  <thead>\n",
       "    <tr style=\"text-align: right;\">\n",
       "      <th></th>\n",
       "      <th>V3</th>\n",
       "      <th>V4</th>\n",
       "      <th>V7</th>\n",
       "      <th>V10</th>\n",
       "      <th>V11</th>\n",
       "      <th>V12</th>\n",
       "      <th>V14</th>\n",
       "      <th>V16</th>\n",
       "      <th>V17</th>\n",
       "      <th>Class</th>\n",
       "    </tr>\n",
       "  </thead>\n",
       "  <tbody>\n",
       "    <tr>\n",
       "      <th>0</th>\n",
       "      <td>2.54</td>\n",
       "      <td>1.38</td>\n",
       "      <td>0.24</td>\n",
       "      <td>0.09</td>\n",
       "      <td>-0.55</td>\n",
       "      <td>-0.62</td>\n",
       "      <td>-0.31</td>\n",
       "      <td>-0.47</td>\n",
       "      <td>0.21</td>\n",
       "      <td>0</td>\n",
       "    </tr>\n",
       "    <tr>\n",
       "      <th>1</th>\n",
       "      <td>0.17</td>\n",
       "      <td>0.45</td>\n",
       "      <td>-0.08</td>\n",
       "      <td>-0.17</td>\n",
       "      <td>1.61</td>\n",
       "      <td>1.07</td>\n",
       "      <td>-0.14</td>\n",
       "      <td>0.46</td>\n",
       "      <td>-0.11</td>\n",
       "      <td>0</td>\n",
       "    </tr>\n",
       "    <tr>\n",
       "      <th>2</th>\n",
       "      <td>1.77</td>\n",
       "      <td>0.38</td>\n",
       "      <td>0.79</td>\n",
       "      <td>0.21</td>\n",
       "      <td>0.62</td>\n",
       "      <td>0.07</td>\n",
       "      <td>-0.17</td>\n",
       "      <td>-2.89</td>\n",
       "      <td>1.11</td>\n",
       "      <td>0</td>\n",
       "    </tr>\n",
       "    <tr>\n",
       "      <th>3</th>\n",
       "      <td>1.79</td>\n",
       "      <td>-0.86</td>\n",
       "      <td>0.24</td>\n",
       "      <td>-0.05</td>\n",
       "      <td>-0.23</td>\n",
       "      <td>0.18</td>\n",
       "      <td>-0.29</td>\n",
       "      <td>-1.06</td>\n",
       "      <td>-0.68</td>\n",
       "      <td>0</td>\n",
       "    </tr>\n",
       "    <tr>\n",
       "      <th>4</th>\n",
       "      <td>1.55</td>\n",
       "      <td>0.40</td>\n",
       "      <td>0.59</td>\n",
       "      <td>0.75</td>\n",
       "      <td>-0.82</td>\n",
       "      <td>0.54</td>\n",
       "      <td>-1.12</td>\n",
       "      <td>-0.45</td>\n",
       "      <td>-0.24</td>\n",
       "      <td>0</td>\n",
       "    </tr>\n",
       "  </tbody>\n",
       "</table>\n",
       "</div>"
      ],
      "text/plain": [
       "    V3    V4    V7   V10   V11   V12   V14   V16   V17  Class\n",
       "0 2.54  1.38  0.24  0.09 -0.55 -0.62 -0.31 -0.47  0.21      0\n",
       "1 0.17  0.45 -0.08 -0.17  1.61  1.07 -0.14  0.46 -0.11      0\n",
       "2 1.77  0.38  0.79  0.21  0.62  0.07 -0.17 -2.89  1.11      0\n",
       "3 1.79 -0.86  0.24 -0.05 -0.23  0.18 -0.29 -1.06 -0.68      0\n",
       "4 1.55  0.40  0.59  0.75 -0.82  0.54 -1.12 -0.45 -0.24      0"
      ]
     },
     "execution_count": 14,
     "metadata": {},
     "output_type": "execute_result"
    }
   ],
   "source": [
    "df1 = data[['V3','V4','V7','V10','V11','V12','V14','V16','V17','Class']].copy(deep = True)\n",
    "df1.head()"
   ]
  },
  {
   "cell_type": "markdown",
   "metadata": {
    "papermill": {
     "duration": 0.05363,
     "end_time": "2023-02-02T17:40:05.641383",
     "exception": false,
     "start_time": "2023-02-02T17:40:05.587753",
     "status": "completed"
    },
    "tags": []
   },
   "source": [
    "#### Dataset for Model based on ANOVA Score :"
   ]
  },
  {
   "cell_type": "code",
   "execution_count": 15,
   "metadata": {
    "execution": {
     "iopub.execute_input": "2023-02-02T17:40:05.756838Z",
     "iopub.status.busy": "2023-02-02T17:40:05.755222Z",
     "iopub.status.idle": "2023-02-02T17:40:05.819905Z",
     "shell.execute_reply": "2023-02-02T17:40:05.819242Z",
     "shell.execute_reply.started": "2022-10-15T08:23:34.120148Z"
    },
    "papermill": {
     "duration": 0.124695,
     "end_time": "2023-02-02T17:40:05.820072",
     "exception": false,
     "start_time": "2023-02-02T17:40:05.695377",
     "status": "completed"
    },
    "tags": []
   },
   "outputs": [
    {
     "data": {
      "text/html": [
       "<div>\n",
       "<style scoped>\n",
       "    .dataframe tbody tr th:only-of-type {\n",
       "        vertical-align: middle;\n",
       "    }\n",
       "\n",
       "    .dataframe tbody tr th {\n",
       "        vertical-align: top;\n",
       "    }\n",
       "\n",
       "    .dataframe thead th {\n",
       "        text-align: right;\n",
       "    }\n",
       "</style>\n",
       "<table border=\"1\" class=\"dataframe\">\n",
       "  <thead>\n",
       "    <tr style=\"text-align: right;\">\n",
       "      <th></th>\n",
       "      <th>V1</th>\n",
       "      <th>V2</th>\n",
       "      <th>V3</th>\n",
       "      <th>V4</th>\n",
       "      <th>V5</th>\n",
       "      <th>V6</th>\n",
       "      <th>V7</th>\n",
       "      <th>V8</th>\n",
       "      <th>V9</th>\n",
       "      <th>V10</th>\n",
       "      <th>...</th>\n",
       "      <th>V12</th>\n",
       "      <th>V14</th>\n",
       "      <th>V16</th>\n",
       "      <th>V17</th>\n",
       "      <th>V18</th>\n",
       "      <th>V19</th>\n",
       "      <th>V20</th>\n",
       "      <th>V21</th>\n",
       "      <th>V27</th>\n",
       "      <th>Class</th>\n",
       "    </tr>\n",
       "  </thead>\n",
       "  <tbody>\n",
       "    <tr>\n",
       "      <th>0</th>\n",
       "      <td>-1.36</td>\n",
       "      <td>-0.07</td>\n",
       "      <td>2.54</td>\n",
       "      <td>1.38</td>\n",
       "      <td>-0.34</td>\n",
       "      <td>0.46</td>\n",
       "      <td>0.24</td>\n",
       "      <td>0.10</td>\n",
       "      <td>0.36</td>\n",
       "      <td>0.09</td>\n",
       "      <td>...</td>\n",
       "      <td>-0.62</td>\n",
       "      <td>-0.31</td>\n",
       "      <td>-0.47</td>\n",
       "      <td>0.21</td>\n",
       "      <td>0.03</td>\n",
       "      <td>0.40</td>\n",
       "      <td>0.25</td>\n",
       "      <td>-0.02</td>\n",
       "      <td>0.13</td>\n",
       "      <td>0</td>\n",
       "    </tr>\n",
       "    <tr>\n",
       "      <th>1</th>\n",
       "      <td>1.19</td>\n",
       "      <td>0.27</td>\n",
       "      <td>0.17</td>\n",
       "      <td>0.45</td>\n",
       "      <td>0.06</td>\n",
       "      <td>-0.08</td>\n",
       "      <td>-0.08</td>\n",
       "      <td>0.09</td>\n",
       "      <td>-0.26</td>\n",
       "      <td>-0.17</td>\n",
       "      <td>...</td>\n",
       "      <td>1.07</td>\n",
       "      <td>-0.14</td>\n",
       "      <td>0.46</td>\n",
       "      <td>-0.11</td>\n",
       "      <td>-0.18</td>\n",
       "      <td>-0.15</td>\n",
       "      <td>-0.07</td>\n",
       "      <td>-0.23</td>\n",
       "      <td>-0.01</td>\n",
       "      <td>0</td>\n",
       "    </tr>\n",
       "    <tr>\n",
       "      <th>2</th>\n",
       "      <td>-1.36</td>\n",
       "      <td>-1.34</td>\n",
       "      <td>1.77</td>\n",
       "      <td>0.38</td>\n",
       "      <td>-0.50</td>\n",
       "      <td>1.80</td>\n",
       "      <td>0.79</td>\n",
       "      <td>0.25</td>\n",
       "      <td>-1.51</td>\n",
       "      <td>0.21</td>\n",
       "      <td>...</td>\n",
       "      <td>0.07</td>\n",
       "      <td>-0.17</td>\n",
       "      <td>-2.89</td>\n",
       "      <td>1.11</td>\n",
       "      <td>-0.12</td>\n",
       "      <td>-2.26</td>\n",
       "      <td>0.52</td>\n",
       "      <td>0.25</td>\n",
       "      <td>-0.06</td>\n",
       "      <td>0</td>\n",
       "    </tr>\n",
       "    <tr>\n",
       "      <th>3</th>\n",
       "      <td>-0.97</td>\n",
       "      <td>-0.19</td>\n",
       "      <td>1.79</td>\n",
       "      <td>-0.86</td>\n",
       "      <td>-0.01</td>\n",
       "      <td>1.25</td>\n",
       "      <td>0.24</td>\n",
       "      <td>0.38</td>\n",
       "      <td>-1.39</td>\n",
       "      <td>-0.05</td>\n",
       "      <td>...</td>\n",
       "      <td>0.18</td>\n",
       "      <td>-0.29</td>\n",
       "      <td>-1.06</td>\n",
       "      <td>-0.68</td>\n",
       "      <td>1.97</td>\n",
       "      <td>-1.23</td>\n",
       "      <td>-0.21</td>\n",
       "      <td>-0.11</td>\n",
       "      <td>0.06</td>\n",
       "      <td>0</td>\n",
       "    </tr>\n",
       "    <tr>\n",
       "      <th>4</th>\n",
       "      <td>-1.16</td>\n",
       "      <td>0.88</td>\n",
       "      <td>1.55</td>\n",
       "      <td>0.40</td>\n",
       "      <td>-0.41</td>\n",
       "      <td>0.10</td>\n",
       "      <td>0.59</td>\n",
       "      <td>-0.27</td>\n",
       "      <td>0.82</td>\n",
       "      <td>0.75</td>\n",
       "      <td>...</td>\n",
       "      <td>0.54</td>\n",
       "      <td>-1.12</td>\n",
       "      <td>-0.45</td>\n",
       "      <td>-0.24</td>\n",
       "      <td>-0.04</td>\n",
       "      <td>0.80</td>\n",
       "      <td>0.41</td>\n",
       "      <td>-0.01</td>\n",
       "      <td>0.22</td>\n",
       "      <td>0</td>\n",
       "    </tr>\n",
       "  </tbody>\n",
       "</table>\n",
       "<p>5 rows × 21 columns</p>\n",
       "</div>"
      ],
      "text/plain": [
       "     V1    V2   V3    V4    V5    V6    V7    V8    V9   V10  ...   V12   V14  \\\n",
       "0 -1.36 -0.07 2.54  1.38 -0.34  0.46  0.24  0.10  0.36  0.09  ... -0.62 -0.31   \n",
       "1  1.19  0.27 0.17  0.45  0.06 -0.08 -0.08  0.09 -0.26 -0.17  ...  1.07 -0.14   \n",
       "2 -1.36 -1.34 1.77  0.38 -0.50  1.80  0.79  0.25 -1.51  0.21  ...  0.07 -0.17   \n",
       "3 -0.97 -0.19 1.79 -0.86 -0.01  1.25  0.24  0.38 -1.39 -0.05  ...  0.18 -0.29   \n",
       "4 -1.16  0.88 1.55  0.40 -0.41  0.10  0.59 -0.27  0.82  0.75  ...  0.54 -1.12   \n",
       "\n",
       "    V16   V17   V18   V19   V20   V21   V27  Class  \n",
       "0 -0.47  0.21  0.03  0.40  0.25 -0.02  0.13      0  \n",
       "1  0.46 -0.11 -0.18 -0.15 -0.07 -0.23 -0.01      0  \n",
       "2 -2.89  1.11 -0.12 -2.26  0.52  0.25 -0.06      0  \n",
       "3 -1.06 -0.68  1.97 -1.23 -0.21 -0.11  0.06      0  \n",
       "4 -0.45 -0.24 -0.04  0.80  0.41 -0.01  0.22      0  \n",
       "\n",
       "[5 rows x 21 columns]"
      ]
     },
     "execution_count": 15,
     "metadata": {},
     "output_type": "execute_result"
    }
   ],
   "source": [
    "df2 = data.copy(deep = True)\n",
    "df2.drop(columns = list(featureScores.index[20:]),inplace = True)\n",
    "df2.head()"
   ]
  },
  {
   "cell_type": "markdown",
   "metadata": {
    "papermill": {
     "duration": 0.053336,
     "end_time": "2023-02-02T17:40:05.927329",
     "exception": false,
     "start_time": "2023-02-02T17:40:05.873993",
     "status": "completed"
    },
    "tags": []
   },
   "source": [
    "# <center><div style=\"font-family: Trebuchet MS; background-color: #3B3B3C; color: #FFD700; padding: 12px; line-height: 1;\">Data Resampling</div></center>\n",
    "\n",
    "- In order to cope with unbalanced data, there are 2 options :\n",
    "\n",
    "    - **Undersampling** : Trim down the majority samples of the target variable.\n",
    "    - **Oversampling** : Increase the minority samples of the target variable to the majority samples.\n",
    "    \n",
    "    \n",
    "- For best performances, we will use the combination of undersampling and oversampling.\n",
    "- First, we will undersample the majority samples and it is followed by oversampling minority samples.\n",
    "- For data balancing, we will use **imblearn**.\n",
    "- **PIP statement** : pip install imbalanced-learn"
   ]
  },
  {
   "cell_type": "code",
   "execution_count": 16,
   "metadata": {
    "execution": {
     "iopub.execute_input": "2023-02-02T17:40:06.094360Z",
     "iopub.status.busy": "2023-02-02T17:40:06.093431Z",
     "iopub.status.idle": "2023-02-02T17:40:06.374973Z",
     "shell.execute_reply": "2023-02-02T17:40:06.375580Z",
     "shell.execute_reply.started": "2022-10-15T08:23:34.220549Z"
    },
    "papermill": {
     "duration": 0.340899,
     "end_time": "2023-02-02T17:40:06.375743",
     "exception": false,
     "start_time": "2023-02-02T17:40:06.034844",
     "status": "completed"
    },
    "tags": []
   },
   "outputs": [],
   "source": [
    "import imblearn\n",
    "from collections import Counter\n",
    "from imblearn.over_sampling import SMOTE\n",
    "from imblearn.under_sampling import RandomUnderSampler\n",
    "from imblearn.pipeline import Pipeline"
   ]
  },
  {
   "cell_type": "markdown",
   "metadata": {
    "papermill": {
     "duration": 0.054898,
     "end_time": "2023-02-02T17:40:06.485369",
     "exception": false,
     "start_time": "2023-02-02T17:40:06.430471",
     "status": "completed"
    },
    "tags": []
   },
   "source": [
    "#### Data Balancing for Model based on Correlation Plot :"
   ]
  },
  {
   "cell_type": "code",
   "execution_count": 17,
   "metadata": {
    "execution": {
     "iopub.execute_input": "2023-02-02T17:40:06.596312Z",
     "iopub.status.busy": "2023-02-02T17:40:06.595603Z",
     "iopub.status.idle": "2023-02-02T17:40:06.717979Z",
     "shell.execute_reply": "2023-02-02T17:40:06.717385Z",
     "shell.execute_reply.started": "2022-10-15T08:23:34.627942Z"
    },
    "papermill": {
     "duration": 0.179101,
     "end_time": "2023-02-02T17:40:06.718157",
     "exception": false,
     "start_time": "2023-02-02T17:40:06.539056",
     "status": "completed"
    },
    "tags": []
   },
   "outputs": [
    {
     "data": {
      "text/plain": [
       "Counter({0: 4920, 1: 2460})"
      ]
     },
     "execution_count": 17,
     "metadata": {},
     "output_type": "execute_result"
    }
   ],
   "source": [
    "over = SMOTE(sampling_strategy = 0.5)\n",
    "under = RandomUnderSampler(sampling_strategy = 0.1)\n",
    "f1 = df1.iloc[:,:9].values\n",
    "t1 = df1.iloc[:,9].values\n",
    "\n",
    "steps = [('under', under),('over', over)]\n",
    "pipeline = Pipeline(steps=steps)\n",
    "f1, t1 = pipeline.fit_resample(f1, t1)\n",
    "Counter(t1)"
   ]
  },
  {
   "cell_type": "markdown",
   "metadata": {
    "papermill": {
     "duration": 0.054989,
     "end_time": "2023-02-02T17:40:06.831262",
     "exception": false,
     "start_time": "2023-02-02T17:40:06.776273",
     "status": "completed"
    },
    "tags": []
   },
   "source": [
    "#### Data Balancing for Model based on ANOVA Score :"
   ]
  },
  {
   "cell_type": "code",
   "execution_count": 18,
   "metadata": {
    "execution": {
     "iopub.execute_input": "2023-02-02T17:40:06.965401Z",
     "iopub.status.busy": "2023-02-02T17:40:06.964478Z",
     "iopub.status.idle": "2023-02-02T17:40:07.075315Z",
     "shell.execute_reply": "2023-02-02T17:40:07.074720Z",
     "shell.execute_reply.started": "2022-10-15T08:23:34.769959Z"
    },
    "papermill": {
     "duration": 0.190043,
     "end_time": "2023-02-02T17:40:07.075445",
     "exception": false,
     "start_time": "2023-02-02T17:40:06.885402",
     "status": "completed"
    },
    "tags": []
   },
   "outputs": [
    {
     "data": {
      "text/plain": [
       "Counter({0: 4920, 1: 2460})"
      ]
     },
     "execution_count": 18,
     "metadata": {},
     "output_type": "execute_result"
    }
   ],
   "source": [
    "over = SMOTE(sampling_strategy = 0.5)\n",
    "under = RandomUnderSampler(sampling_strategy = 0.1)\n",
    "f2 = df2.iloc[:,:20].values\n",
    "t2 = df2.iloc[:,20].values\n",
    "\n",
    "steps = [('under', under),('over', over)]\n",
    "pipeline = Pipeline(steps=steps)\n",
    "f2, t2 = pipeline.fit_resample(f2, t2)\n",
    "Counter(t2)"
   ]
  },
  {
   "cell_type": "markdown",
   "metadata": {
    "papermill": {
     "duration": 0.054845,
     "end_time": "2023-02-02T17:40:07.185839",
     "exception": false,
     "start_time": "2023-02-02T17:40:07.130994",
     "status": "completed"
    },
    "tags": []
   },
   "source": [
    "### Calculation for Data Resampling :\n",
    "\n",
    "- **Sampling Strategy** : It is a ratio which is the common paramter for oversampling and undersampling.\n",
    "- **Sampling Strategy** : **( Samples of Minority Class ) / ( Samples of Majority Class )**\n",
    "\n",
    "\n",
    "- In this case,\n",
    "\n",
    "    - **Majority Class : No Fraud Cases** : 284315 samples\n",
    "    - **Minority Class : Fraud Cases** : 492 samples\n",
    "\n",
    "\n",
    "### Undersampling : Trim down the majority class samples\n",
    "\n",
    "- Sampling_Strategy = 0.1\n",
    "- 0.1 = ( 492 ) / Majority Class Samples\n",
    "- After undersampling, \n",
    "\n",
    "    - **Majority Class : No Fraud Cases** : 4920 samples\n",
    "    - **Minority Class : Fraud Cases** : 492 samples\n",
    "\n",
    "\n",
    "### Oversampling : Increase the minority class samples\n",
    "\n",
    "- Sampling_Strategy = 0.5\n",
    "- 0.5 = ( Minority Class Samples ) / 4920\n",
    "- After oversampling, \n",
    "\n",
    "    - **Majority Class : No Fraud Cases** : 4920 samples\n",
    "    - **Minority Class : Fraud Cases** : 2460 samples\n",
    "    \n",
    "\n",
    "- Final Class Samples :\n",
    "\n",
    "    - **Majority Class : No Fraud Cases** : 4920 samples\n",
    "    - **Minority Class : Fraud Cases** : 2460 samples\n",
    "\n",
    "\n",
    "- For imbalanced datasets, we **duplicate the data** to deal with the potential bias in the predictions. \n",
    "- Due to this duplication process, we are using **synthetic data** for modeling purposes to ensure that the predictions are not skewed towards the majority target class value.\n",
    "- Thus, evaluating models using **accuracy** will be misleading. Instead, we will go for **confusion matrix, ROC-AUC graph and ROC-AUC score** for model evaluation."
   ]
  },
  {
   "cell_type": "markdown",
   "metadata": {
    "papermill": {
     "duration": 0.056245,
     "end_time": "2023-02-02T17:40:07.297722",
     "exception": false,
     "start_time": "2023-02-02T17:40:07.241477",
     "status": "completed"
    },
    "tags": []
   },
   "source": [
    "# <center><div style=\"font-family: Trebuchet MS; background-color: #3B3B3C; color: #FFD700; padding: 12px; line-height: 1;\">Modeling</div></center>"
   ]
  },
  {
   "cell_type": "code",
   "execution_count": 19,
   "metadata": {
    "execution": {
     "iopub.execute_input": "2023-02-02T17:40:07.411778Z",
     "iopub.status.busy": "2023-02-02T17:40:07.410932Z",
     "iopub.status.idle": "2023-02-02T17:40:07.417712Z",
     "shell.execute_reply": "2023-02-02T17:40:07.417118Z",
     "shell.execute_reply.started": "2022-10-15T08:23:34.924668Z"
    },
    "papermill": {
     "duration": 0.06487,
     "end_time": "2023-02-02T17:40:07.417831",
     "exception": false,
     "start_time": "2023-02-02T17:40:07.352961",
     "status": "completed"
    },
    "tags": []
   },
   "outputs": [],
   "source": [
    "from sklearn.model_selection import train_test_split\n",
    "from sklearn.metrics import confusion_matrix\n",
    "from sklearn.metrics import roc_auc_score\n",
    "from sklearn.metrics import RocCurveDisplay\n",
    "from sklearn.metrics import plot_roc_curve\n",
    "from sklearn.model_selection import cross_val_score\n",
    "from sklearn.model_selection import GridSearchCV\n",
    "from sklearn.metrics import classification_report\n",
    "from sklearn.model_selection import RepeatedStratifiedKFold\n",
    "from sklearn.metrics import precision_recall_curve"
   ]
  },
  {
   "cell_type": "code",
   "execution_count": 20,
   "metadata": {
    "execution": {
     "iopub.execute_input": "2023-02-02T17:40:07.537212Z",
     "iopub.status.busy": "2023-02-02T17:40:07.536493Z",
     "iopub.status.idle": "2023-02-02T17:40:07.542400Z",
     "shell.execute_reply": "2023-02-02T17:40:07.541764Z",
     "shell.execute_reply.started": "2022-10-15T08:23:34.934986Z"
    },
    "papermill": {
     "duration": 0.06796,
     "end_time": "2023-02-02T17:40:07.542531",
     "exception": false,
     "start_time": "2023-02-02T17:40:07.474571",
     "status": "completed"
    },
    "tags": []
   },
   "outputs": [],
   "source": [
    "x_train1, x_test1, y_train1, y_test1 = train_test_split(f1, t1, test_size = 0.20, random_state = 2)\n",
    "x_train2, x_test2, y_train2, y_test2 = train_test_split(f2, t2, test_size = 0.20, random_state = 2)"
   ]
  },
  {
   "cell_type": "markdown",
   "metadata": {
    "papermill": {
     "duration": 0.055187,
     "end_time": "2023-02-02T17:40:07.652451",
     "exception": false,
     "start_time": "2023-02-02T17:40:07.597264",
     "status": "completed"
    },
    "tags": []
   },
   "source": [
    "- Splitting the data into **80 - 20 train - test** groups."
   ]
  },
  {
   "cell_type": "code",
   "execution_count": 21,
   "metadata": {
    "execution": {
     "iopub.execute_input": "2023-02-02T17:40:07.770652Z",
     "iopub.status.busy": "2023-02-02T17:40:07.769920Z",
     "iopub.status.idle": "2023-02-02T17:40:07.775423Z",
     "shell.execute_reply": "2023-02-02T17:40:07.775944Z",
     "shell.execute_reply.started": "2022-10-15T08:23:34.954344Z"
    },
    "papermill": {
     "duration": 0.06919,
     "end_time": "2023-02-02T17:40:07.776117",
     "exception": false,
     "start_time": "2023-02-02T17:40:07.706927",
     "status": "completed"
    },
    "tags": []
   },
   "outputs": [],
   "source": [
    "def model(classifier,x_train,y_train,x_test,y_test):\n",
    "    \n",
    "    classifier.fit(x_train,y_train)\n",
    "    prediction = classifier.predict(x_test)\n",
    "    cv = RepeatedStratifiedKFold(n_splits = 10,n_repeats = 3,random_state = 1)\n",
    "    print(\"Cross Validation Score : \",'{0:.2%}'.format(cross_val_score(classifier,x_train,y_train,cv = cv,scoring = 'roc_auc').mean()))\n",
    "    print(\"ROC_AUC Score : \",'{0:.2%}'.format(roc_auc_score(y_test,prediction)))\n",
    "    plot_roc_curve(classifier, x_test,y_test)\n",
    "    plt.title('ROC_AUC_Plot')\n",
    "    plt.show()\n",
    "    \n",
    "def model_evaluation(classifier,x_test,y_test):\n",
    "    \n",
    "    # Confusion Matrix\n",
    "    cm = confusion_matrix(y_test,classifier.predict(x_test))\n",
    "    names = ['True Neg','False Pos','False Neg','True Pos']\n",
    "    counts = [value for value in cm.flatten()]\n",
    "    percentages = ['{0:.2%}'.format(value) for value in cm.flatten()/np.sum(cm)]\n",
    "    labels = [f'{v1}\\n{v2}\\n{v3}' for v1, v2, v3 in zip(names,counts,percentages)]\n",
    "    labels = np.asarray(labels).reshape(2,2)\n",
    "    sns.heatmap(cm,annot = labels,cmap = 'Blues',fmt ='')\n",
    "    \n",
    "    # Classification Report\n",
    "    print(classification_report(y_test,classifier.predict(x_test)))"
   ]
  },
  {
   "cell_type": "markdown",
   "metadata": {
    "papermill": {
     "duration": 0.053737,
     "end_time": "2023-02-02T17:40:07.884579",
     "exception": false,
     "start_time": "2023-02-02T17:40:07.830842",
     "status": "completed"
    },
    "tags": []
   },
   "source": [
    "### 1] Logistic Regression :"
   ]
  },
  {
   "cell_type": "code",
   "execution_count": 22,
   "metadata": {
    "execution": {
     "iopub.execute_input": "2023-02-02T17:40:07.997086Z",
     "iopub.status.busy": "2023-02-02T17:40:07.996364Z",
     "iopub.status.idle": "2023-02-02T17:40:08.000332Z",
     "shell.execute_reply": "2023-02-02T17:40:08.000815Z",
     "shell.execute_reply.started": "2022-10-15T08:23:34.973544Z"
    },
    "papermill": {
     "duration": 0.061476,
     "end_time": "2023-02-02T17:40:08.000977",
     "exception": false,
     "start_time": "2023-02-02T17:40:07.939501",
     "status": "completed"
    },
    "tags": []
   },
   "outputs": [],
   "source": [
    "from sklearn.linear_model import LogisticRegression"
   ]
  },
  {
   "cell_type": "code",
   "execution_count": 23,
   "metadata": {
    "execution": {
     "iopub.execute_input": "2023-02-02T17:40:08.117524Z",
     "iopub.status.busy": "2023-02-02T17:40:08.116803Z",
     "iopub.status.idle": "2023-02-02T17:40:08.119105Z",
     "shell.execute_reply": "2023-02-02T17:40:08.119624Z",
     "shell.execute_reply.started": "2022-10-15T08:23:34.986137Z"
    },
    "papermill": {
     "duration": 0.063913,
     "end_time": "2023-02-02T17:40:08.119785",
     "exception": false,
     "start_time": "2023-02-02T17:40:08.055872",
     "status": "completed"
    },
    "tags": []
   },
   "outputs": [],
   "source": [
    "classifier_lr = LogisticRegression(random_state = 0,C=10,penalty= 'l2') "
   ]
  },
  {
   "cell_type": "markdown",
   "metadata": {
    "papermill": {
     "duration": 0.053951,
     "end_time": "2023-02-02T17:40:08.230829",
     "exception": false,
     "start_time": "2023-02-02T17:40:08.176878",
     "status": "completed"
    },
    "tags": []
   },
   "source": [
    "#### Model based on Correlation Plot :"
   ]
  },
  {
   "cell_type": "code",
   "execution_count": 24,
   "metadata": {
    "execution": {
     "iopub.execute_input": "2023-02-02T17:40:08.344355Z",
     "iopub.status.busy": "2023-02-02T17:40:08.342079Z",
     "iopub.status.idle": "2023-02-02T17:40:09.305657Z",
     "shell.execute_reply": "2023-02-02T17:40:09.304850Z",
     "shell.execute_reply.started": "2022-10-15T08:23:35.000655Z"
    },
    "papermill": {
     "duration": 1.020723,
     "end_time": "2023-02-02T17:40:09.305804",
     "exception": false,
     "start_time": "2023-02-02T17:40:08.285081",
     "status": "completed"
    },
    "tags": []
   },
   "outputs": [
    {
     "name": "stdout",
     "output_type": "stream",
     "text": [
      "Cross Validation Score :  97.97%\n",
      "ROC_AUC Score :  92.15%\n"
     ]
    },
    {
     "data": {
      "image/png": "[encoded data removed]",
      "text/plain": [
       "<Figure size 432x288 with 1 Axes>"
      ]
     },
     "metadata": {
      "needs_background": "light"
     },
     "output_type": "display_data"
    },
    {
     "name": "stdout",
     "output_type": "stream",
     "text": [
      "              precision    recall  f1-score   support\n",
      "\n",
      "           0       0.93      0.99      0.96       975\n",
      "           1       0.97      0.86      0.91       501\n",
      "\n",
      "    accuracy                           0.94      1476\n",
      "   macro avg       0.95      0.92      0.93      1476\n",
      "weighted avg       0.94      0.94      0.94      1476\n",
      "\n"
     ]
    },
    {
     "data": {
      "image/png": "[encoded data removed]",
      "text/plain": [
       "<Figure size 432x288 with 2 Axes>"
      ]
     },
     "metadata": {
      "needs_background": "light"
     },
     "output_type": "display_data"
    }
   ],
   "source": [
    "model(classifier_lr,x_train1,y_train1,x_test1,y_test1)\n",
    "model_evaluation(classifier_lr,x_test1,y_test1)"
   ]
  },
  {
   "cell_type": "markdown",
   "metadata": {
    "papermill": {
     "duration": 0.056724,
     "end_time": "2023-02-02T17:40:09.422660",
     "exception": false,
     "start_time": "2023-02-02T17:40:09.365936",
     "status": "completed"
    },
    "tags": []
   },
   "source": [
    "#### Model based on ANOVA Score :"
   ]
  },
  {
   "cell_type": "code",
   "execution_count": 25,
   "metadata": {
    "execution": {
     "iopub.execute_input": "2023-02-02T17:40:09.543037Z",
     "iopub.status.busy": "2023-02-02T17:40:09.542143Z",
     "iopub.status.idle": "2023-02-02T17:40:10.975506Z",
     "shell.execute_reply": "2023-02-02T17:40:10.974862Z",
     "shell.execute_reply.started": "2022-10-15T08:23:36.024982Z"
    },
    "papermill": {
     "duration": 1.495155,
     "end_time": "2023-02-02T17:40:10.975660",
     "exception": false,
     "start_time": "2023-02-02T17:40:09.480505",
     "status": "completed"
    },
    "tags": []
   },
   "outputs": [
    {
     "name": "stdout",
     "output_type": "stream",
     "text": [
      "Cross Validation Score :  98.39%\n",
      "ROC_AUC Score :  94.79%\n"
     ]
    },
    {
     "data": {
      "image/png": "[encoded data removed]",
      "text/plain": [
       "<Figure size 432x288 with 1 Axes>"
      ]
     },
     "metadata": {
      "needs_background": "light"
     },
     "output_type": "display_data"
    },
    {
     "name": "stdout",
     "output_type": "stream",
     "text": [
      "              precision    recall  f1-score   support\n",
      "\n",
      "           0       0.95      0.99      0.97       975\n",
      "           1       0.97      0.91      0.94       501\n",
      "\n",
      "    accuracy                           0.96      1476\n",
      "   macro avg       0.96      0.95      0.96      1476\n",
      "weighted avg       0.96      0.96      0.96      1476\n",
      "\n"
     ]
    },
    {
     "data": {
      "image/png": "[encoded data removed]",
      "text/plain": [
       "<Figure size 432x288 with 2 Axes>"
      ]
     },
     "metadata": {
      "needs_background": "light"
     },
     "output_type": "display_data"
    }
   ],
   "source": [
    "model(classifier_lr,x_train2,y_train2,x_test2,y_test2)\n",
    "model_evaluation(classifier_lr,x_test2,y_test2)"
   ]
  },
  {
   "cell_type": "markdown",
   "metadata": {
    "papermill": {
     "duration": 0.058557,
     "end_time": "2023-02-02T17:40:11.099405",
     "exception": false,
     "start_time": "2023-02-02T17:40:11.040848",
     "status": "completed"
    },
    "tags": []
   },
   "source": [
    "### 2] Support Vector Classifier :"
   ]
  },
  {
   "cell_type": "code",
   "execution_count": 26,
   "metadata": {
    "execution": {
     "iopub.execute_input": "2023-02-02T17:40:11.223565Z",
     "iopub.status.busy": "2023-02-02T17:40:11.222786Z",
     "iopub.status.idle": "2023-02-02T17:40:11.226217Z",
     "shell.execute_reply": "2023-02-02T17:40:11.225667Z",
     "shell.execute_reply.started": "2022-10-15T08:23:38.027Z"
    },
    "papermill": {
     "duration": 0.068108,
     "end_time": "2023-02-02T17:40:11.226349",
     "exception": false,
     "start_time": "2023-02-02T17:40:11.158241",
     "status": "completed"
    },
    "tags": []
   },
   "outputs": [],
   "source": [
    "from sklearn.svm import SVC"
   ]
  },
  {
   "cell_type": "code",
   "execution_count": 27,
   "metadata": {
    "execution": {
     "iopub.execute_input": "2023-02-02T17:40:11.351820Z",
     "iopub.status.busy": "2023-02-02T17:40:11.351061Z",
     "iopub.status.idle": "2023-02-02T17:40:11.354539Z",
     "shell.execute_reply": "2023-02-02T17:40:11.353976Z",
     "shell.execute_reply.started": "2022-10-15T08:23:38.032883Z"
    },
    "papermill": {
     "duration": 0.067072,
     "end_time": "2023-02-02T17:40:11.354667",
     "exception": false,
     "start_time": "2023-02-02T17:40:11.287595",
     "status": "completed"
    },
    "tags": []
   },
   "outputs": [],
   "source": [
    "classifier_svc = SVC(kernel = 'linear',C = 0.1)"
   ]
  },
  {
   "cell_type": "markdown",
   "metadata": {
    "papermill": {
     "duration": 0.060345,
     "end_time": "2023-02-02T17:40:11.474804",
     "exception": false,
     "start_time": "2023-02-02T17:40:11.414459",
     "status": "completed"
    },
    "tags": []
   },
   "source": [
    "#### Model based on Correlation Plot :"
   ]
  },
  {
   "cell_type": "code",
   "execution_count": 28,
   "metadata": {
    "execution": {
     "iopub.execute_input": "2023-02-02T17:40:11.603156Z",
     "iopub.status.busy": "2023-02-02T17:40:11.602467Z",
     "iopub.status.idle": "2023-02-02T17:40:15.611564Z",
     "shell.execute_reply": "2023-02-02T17:40:15.610981Z",
     "shell.execute_reply.started": "2022-10-15T08:23:38.045569Z"
    },
    "papermill": {
     "duration": 4.07809,
     "end_time": "2023-02-02T17:40:15.611693",
     "exception": false,
     "start_time": "2023-02-02T17:40:11.533603",
     "status": "completed"
    },
    "tags": []
   },
   "outputs": [
    {
     "name": "stdout",
     "output_type": "stream",
     "text": [
      "Cross Validation Score :  97.84%\n",
      "ROC_AUC Score :  92.06%\n"
     ]
    },
    {
     "data": {
      "image/png": "[encoded data removed]",
      "text/plain": [
       "<Figure size 432x288 with 1 Axes>"
      ]
     },
     "metadata": {
      "needs_background": "light"
     },
     "output_type": "display_data"
    },
    {
     "name": "stdout",
     "output_type": "stream",
     "text": [
      "              precision    recall  f1-score   support\n",
      "\n",
      "           0       0.93      0.99      0.96       975\n",
      "           1       0.98      0.85      0.91       501\n",
      "\n",
      "    accuracy                           0.94      1476\n",
      "   macro avg       0.96      0.92      0.93      1476\n",
      "weighted avg       0.95      0.94      0.94      1476\n",
      "\n"
     ]
    },
    {
     "data": {
      "image/png": "[encoded data removed]",
      "text/plain": [
       "<Figure size 432x288 with 2 Axes>"
      ]
     },
     "metadata": {
      "needs_background": "light"
     },
     "output_type": "display_data"
    }
   ],
   "source": [
    "model(classifier_svc,x_train1,y_train1,x_test1,y_test1)\n",
    "model_evaluation(classifier_svc,x_test1,y_test1)"
   ]
  },
  {
   "cell_type": "markdown",
   "metadata": {
    "papermill": {
     "duration": 0.061006,
     "end_time": "2023-02-02T17:40:15.733427",
     "exception": false,
     "start_time": "2023-02-02T17:40:15.672421",
     "status": "completed"
    },
    "tags": []
   },
   "source": [
    "#### Model based on ANOVA Score :"
   ]
  },
  {
   "cell_type": "code",
   "execution_count": 29,
   "metadata": {
    "execution": {
     "iopub.execute_input": "2023-02-02T17:40:15.860365Z",
     "iopub.status.busy": "2023-02-02T17:40:15.859653Z",
     "iopub.status.idle": "2023-02-02T17:40:21.492930Z",
     "shell.execute_reply": "2023-02-02T17:40:21.493553Z",
     "shell.execute_reply.started": "2022-10-15T08:23:42.075744Z"
    },
    "papermill": {
     "duration": 5.699475,
     "end_time": "2023-02-02T17:40:21.493729",
     "exception": false,
     "start_time": "2023-02-02T17:40:15.794254",
     "status": "completed"
    },
    "tags": []
   },
   "outputs": [
    {
     "name": "stdout",
     "output_type": "stream",
     "text": [
      "Cross Validation Score :  98.15%\n",
      "ROC_AUC Score :  94.35%\n"
     ]
    },
    {
     "data": {
      "image/png": "[encoded data removed]",
      "text/plain": [
       "<Figure size 432x288 with 1 Axes>"
      ]
     },
     "metadata": {
      "needs_background": "light"
     },
     "output_type": "display_data"
    },
    {
     "name": "stdout",
     "output_type": "stream",
     "text": [
      "              precision    recall  f1-score   support\n",
      "\n",
      "           0       0.95      0.99      0.97       975\n",
      "           1       0.98      0.89      0.94       501\n",
      "\n",
      "    accuracy                           0.96      1476\n",
      "   macro avg       0.97      0.94      0.95      1476\n",
      "weighted avg       0.96      0.96      0.96      1476\n",
      "\n"
     ]
    },
    {
     "data": {
      "image/png": "[encoded data removed]",
      "text/plain": [
       "<Figure size 432x288 with 2 Axes>"
      ]
     },
     "metadata": {
      "needs_background": "light"
     },
     "output_type": "display_data"
    }
   ],
   "source": [
    "model(classifier_svc,x_train2,y_train2,x_test2,y_test2)\n",
    "model_evaluation(classifier_svc,x_test2,y_test2)"
   ]
  },
  {
   "cell_type": "markdown",
   "metadata": {
    "papermill": {
     "duration": 0.063649,
     "end_time": "2023-02-02T17:40:21.620939",
     "exception": false,
     "start_time": "2023-02-02T17:40:21.557290",
     "status": "completed"
    },
    "tags": []
   },
   "source": [
    "### 3] Decision Tree Classifier :"
   ]
  },
  {
   "cell_type": "code",
   "execution_count": 30,
   "metadata": {
    "execution": {
     "iopub.execute_input": "2023-02-02T17:40:21.753228Z",
     "iopub.status.busy": "2023-02-02T17:40:21.752172Z",
     "iopub.status.idle": "2023-02-02T17:40:21.754947Z",
     "shell.execute_reply": "2023-02-02T17:40:21.755419Z",
     "shell.execute_reply.started": "2022-10-15T08:23:47.683044Z"
    },
    "papermill": {
     "duration": 0.070919,
     "end_time": "2023-02-02T17:40:21.755587",
     "exception": false,
     "start_time": "2023-02-02T17:40:21.684668",
     "status": "completed"
    },
    "tags": []
   },
   "outputs": [],
   "source": [
    "from sklearn.tree import DecisionTreeClassifier"
   ]
  },
  {
   "cell_type": "code",
   "execution_count": 31,
   "metadata": {
    "execution": {
     "iopub.execute_input": "2023-02-02T17:40:21.886728Z",
     "iopub.status.busy": "2023-02-02T17:40:21.885695Z",
     "iopub.status.idle": "2023-02-02T17:40:21.888958Z",
     "shell.execute_reply": "2023-02-02T17:40:21.888327Z",
     "shell.execute_reply.started": "2022-10-15T08:23:47.690884Z"
    },
    "papermill": {
     "duration": 0.070972,
     "end_time": "2023-02-02T17:40:21.889127",
     "exception": false,
     "start_time": "2023-02-02T17:40:21.818155",
     "status": "completed"
    },
    "tags": []
   },
   "outputs": [],
   "source": [
    "classifier_dt = DecisionTreeClassifier(random_state = 1000,max_depth = 4,min_samples_leaf = 1)"
   ]
  },
  {
   "cell_type": "markdown",
   "metadata": {
    "papermill": {
     "duration": 0.063826,
     "end_time": "2023-02-02T17:40:22.015357",
     "exception": false,
     "start_time": "2023-02-02T17:40:21.951531",
     "status": "completed"
    },
    "tags": []
   },
   "source": [
    "#### Model based on Correlation Plot :"
   ]
  },
  {
   "cell_type": "code",
   "execution_count": 32,
   "metadata": {
    "execution": {
     "iopub.execute_input": "2023-02-02T17:40:22.147937Z",
     "iopub.status.busy": "2023-02-02T17:40:22.146974Z",
     "iopub.status.idle": "2023-02-02T17:40:23.328921Z",
     "shell.execute_reply": "2023-02-02T17:40:23.328325Z",
     "shell.execute_reply.started": "2022-10-15T08:23:47.715884Z"
    },
    "papermill": {
     "duration": 1.249936,
     "end_time": "2023-02-02T17:40:23.329080",
     "exception": false,
     "start_time": "2023-02-02T17:40:22.079144",
     "status": "completed"
    },
    "tags": []
   },
   "outputs": [
    {
     "name": "stdout",
     "output_type": "stream",
     "text": [
      "Cross Validation Score :  96.71%\n",
      "ROC_AUC Score :  92.40%\n"
     ]
    },
    {
     "data": {
      "image/png": "[encoded data removed]",
      "text/plain": [
       "<Figure size 432x288 with 1 Axes>"
      ]
     },
     "metadata": {
      "needs_background": "light"
     },
     "output_type": "display_data"
    },
    {
     "name": "stdout",
     "output_type": "stream",
     "text": [
      "              precision    recall  f1-score   support\n",
      "\n",
      "           0       0.93      0.99      0.96       975\n",
      "           1       0.97      0.86      0.91       501\n",
      "\n",
      "    accuracy                           0.94      1476\n",
      "   macro avg       0.95      0.92      0.94      1476\n",
      "weighted avg       0.95      0.94      0.94      1476\n",
      "\n"
     ]
    },
    {
     "data": {
      "image/png": "[encoded data removed]",
      "text/plain": [
       "<Figure size 432x288 with 2 Axes>"
      ]
     },
     "metadata": {
      "needs_background": "light"
     },
     "output_type": "display_data"
    }
   ],
   "source": [
    "model(classifier_dt,x_train1,y_train1,x_test1,y_test1)\n",
    "model_evaluation(classifier_dt,x_test1,y_test1)"
   ]
  },
  {
   "cell_type": "markdown",
   "metadata": {
    "papermill": {
     "duration": 0.067386,
     "end_time": "2023-02-02T17:40:23.461595",
     "exception": false,
     "start_time": "2023-02-02T17:40:23.394209",
     "status": "completed"
    },
    "tags": []
   },
   "source": [
    "#### Model based on ANOVA Score :"
   ]
  },
  {
   "cell_type": "code",
   "execution_count": 33,
   "metadata": {
    "execution": {
     "iopub.execute_input": "2023-02-02T17:40:23.601346Z",
     "iopub.status.busy": "2023-02-02T17:40:23.600321Z",
     "iopub.status.idle": "2023-02-02T17:40:25.714987Z",
     "shell.execute_reply": "2023-02-02T17:40:25.714236Z",
     "shell.execute_reply.started": "2022-10-15T08:23:48.935501Z"
    },
    "papermill": {
     "duration": 2.185516,
     "end_time": "2023-02-02T17:40:25.715183",
     "exception": false,
     "start_time": "2023-02-02T17:40:23.529667",
     "status": "completed"
    },
    "tags": []
   },
   "outputs": [
    {
     "name": "stdout",
     "output_type": "stream",
     "text": [
      "Cross Validation Score :  96.58%\n",
      "ROC_AUC Score :  94.20%\n"
     ]
    },
    {
     "data": {
      "image/png": "[encoded data removed]",
      "text/plain": [
       "<Figure size 432x288 with 1 Axes>"
      ]
     },
     "metadata": {
      "needs_background": "light"
     },
     "output_type": "display_data"
    },
    {
     "name": "stdout",
     "output_type": "stream",
     "text": [
      "              precision    recall  f1-score   support\n",
      "\n",
      "           0       0.95      0.99      0.97       975\n",
      "           1       0.98      0.89      0.94       501\n",
      "\n",
      "    accuracy                           0.96      1476\n",
      "   macro avg       0.96      0.94      0.95      1476\n",
      "weighted avg       0.96      0.96      0.96      1476\n",
      "\n"
     ]
    },
    {
     "data": {
      "image/png": "[encoded data removed]",
      "text/plain": [
       "<Figure size 432x288 with 2 Axes>"
      ]
     },
     "metadata": {
      "needs_background": "light"
     },
     "output_type": "display_data"
    }
   ],
   "source": [
    "model(classifier_dt,x_train2,y_train2,x_test2,y_test2)\n",
    "model_evaluation(classifier_dt,x_test2,y_test2)"
   ]
  },
  {
   "cell_type": "markdown",
   "metadata": {
    "papermill": {
     "duration": 0.066736,
     "end_time": "2023-02-02T17:40:25.849469",
     "exception": false,
     "start_time": "2023-02-02T17:40:25.782733",
     "status": "completed"
    },
    "tags": []
   },
   "source": [
    "### 4] Random Forest Classifier : "
   ]
  },
  {
   "cell_type": "code",
   "execution_count": 34,
   "metadata": {
    "execution": {
     "iopub.execute_input": "2023-02-02T17:40:25.988771Z",
     "iopub.status.busy": "2023-02-02T17:40:25.987829Z",
     "iopub.status.idle": "2023-02-02T17:40:25.990983Z",
     "shell.execute_reply": "2023-02-02T17:40:25.990339Z",
     "shell.execute_reply.started": "2022-10-15T08:23:50.956697Z"
    },
    "papermill": {
     "duration": 0.074881,
     "end_time": "2023-02-02T17:40:25.991158",
     "exception": false,
     "start_time": "2023-02-02T17:40:25.916277",
     "status": "completed"
    },
    "tags": []
   },
   "outputs": [],
   "source": [
    "from sklearn.ensemble import RandomForestClassifier"
   ]
  },
  {
   "cell_type": "code",
   "execution_count": 35,
   "metadata": {
    "execution": {
     "iopub.execute_input": "2023-02-02T17:40:26.131266Z",
     "iopub.status.busy": "2023-02-02T17:40:26.130526Z",
     "iopub.status.idle": "2023-02-02T17:40:26.133732Z",
     "shell.execute_reply": "2023-02-02T17:40:26.133095Z",
     "shell.execute_reply.started": "2022-10-15T08:23:50.962011Z"
    },
    "papermill": {
     "duration": 0.074528,
     "end_time": "2023-02-02T17:40:26.133854",
     "exception": false,
     "start_time": "2023-02-02T17:40:26.059326",
     "status": "completed"
    },
    "tags": []
   },
   "outputs": [],
   "source": [
    "classifier_rf = RandomForestClassifier(max_depth = 4,random_state = 0)"
   ]
  },
  {
   "cell_type": "markdown",
   "metadata": {
    "papermill": {
     "duration": 0.067086,
     "end_time": "2023-02-02T17:40:26.268969",
     "exception": false,
     "start_time": "2023-02-02T17:40:26.201883",
     "status": "completed"
    },
    "tags": []
   },
   "source": [
    "#### Model based on Correlation Plot :"
   ]
  },
  {
   "cell_type": "code",
   "execution_count": 36,
   "metadata": {
    "execution": {
     "iopub.execute_input": "2023-02-02T17:40:26.433289Z",
     "iopub.status.busy": "2023-02-02T17:40:26.422713Z",
     "iopub.status.idle": "2023-02-02T17:40:49.678856Z",
     "shell.execute_reply": "2023-02-02T17:40:49.677601Z",
     "shell.execute_reply.started": "2022-10-15T08:23:50.974411Z"
    },
    "papermill": {
     "duration": 23.341805,
     "end_time": "2023-02-02T17:40:49.679042",
     "exception": false,
     "start_time": "2023-02-02T17:40:26.337237",
     "status": "completed"
    },
    "tags": []
   },
   "outputs": [
    {
     "name": "stdout",
     "output_type": "stream",
     "text": [
      "Cross Validation Score :  97.73%\n",
      "ROC_AUC Score :  92.11%\n"
     ]
    },
    {
     "data": {
      "image/png": "[encoded data removed]",
      "text/plain": [
       "<Figure size 432x288 with 1 Axes>"
      ]
     },
     "metadata": {
      "needs_background": "light"
     },
     "output_type": "display_data"
    },
    {
     "name": "stdout",
     "output_type": "stream",
     "text": [
      "              precision    recall  f1-score   support\n",
      "\n",
      "           0       0.93      1.00      0.96       975\n",
      "           1       0.99      0.85      0.91       501\n",
      "\n",
      "    accuracy                           0.95      1476\n",
      "   macro avg       0.96      0.92      0.94      1476\n",
      "weighted avg       0.95      0.95      0.94      1476\n",
      "\n"
     ]
    },
    {
     "data": {
      "image/png": "[encoded data removed]",
      "text/plain": [
       "<Figure size 432x288 with 2 Axes>"
      ]
     },
     "metadata": {
      "needs_background": "light"
     },
     "output_type": "display_data"
    }
   ],
   "source": [
    "model(classifier_rf,x_train1,y_train1,x_test1,y_test1)\n",
    "model_evaluation(classifier_rf,x_test1,y_test1)"
   ]
  },
  {
   "cell_type": "markdown",
   "metadata": {
    "papermill": {
     "duration": 0.06971,
     "end_time": "2023-02-02T17:40:49.818820",
     "exception": false,
     "start_time": "2023-02-02T17:40:49.749110",
     "status": "completed"
    },
    "tags": []
   },
   "source": [
    "#### Model based on ANOVA Score :"
   ]
  },
  {
   "cell_type": "code",
   "execution_count": 37,
   "metadata": {
    "execution": {
     "iopub.execute_input": "2023-02-02T17:40:49.970753Z",
     "iopub.status.busy": "2023-02-02T17:40:49.969656Z",
     "iopub.status.idle": "2023-02-02T17:41:18.662502Z",
     "shell.execute_reply": "2023-02-02T17:41:18.661896Z",
     "shell.execute_reply.started": "2022-10-15T08:24:14.816742Z"
    },
    "papermill": {
     "duration": 28.769413,
     "end_time": "2023-02-02T17:41:18.662626",
     "exception": false,
     "start_time": "2023-02-02T17:40:49.893213",
     "status": "completed"
    },
    "tags": []
   },
   "outputs": [
    {
     "name": "stdout",
     "output_type": "stream",
     "text": [
      "Cross Validation Score :  98.15%\n",
      "ROC_AUC Score :  94.11%\n"
     ]
    },
    {
     "data": {
      "image/png": "[encoded data removed]",
      "text/plain": [
       "<Figure size 432x288 with 1 Axes>"
      ]
     },
     "metadata": {
      "needs_background": "light"
     },
     "output_type": "display_data"
    },
    {
     "name": "stdout",
     "output_type": "stream",
     "text": [
      "              precision    recall  f1-score   support\n",
      "\n",
      "           0       0.94      1.00      0.97       975\n",
      "           1       1.00      0.88      0.94       501\n",
      "\n",
      "    accuracy                           0.96      1476\n",
      "   macro avg       0.97      0.94      0.95      1476\n",
      "weighted avg       0.96      0.96      0.96      1476\n",
      "\n"
     ]
    },
    {
     "data": {
      "image/png": "[encoded data removed]",
      "text/plain": [
       "<Figure size 432x288 with 2 Axes>"
      ]
     },
     "metadata": {
      "needs_background": "light"
     },
     "output_type": "display_data"
    }
   ],
   "source": [
    "model(classifier_rf,x_train2,y_train2,x_test2,y_test2)\n",
    "model_evaluation(classifier_rf,x_test2,y_test2)"
   ]
  },
  {
   "cell_type": "markdown",
   "metadata": {
    "papermill": {
     "duration": 0.07121,
     "end_time": "2023-02-02T17:41:18.805970",
     "exception": false,
     "start_time": "2023-02-02T17:41:18.734760",
     "status": "completed"
    },
    "tags": []
   },
   "source": [
    "### 5] K-Nearest Neighbors :"
   ]
  },
  {
   "cell_type": "code",
   "execution_count": 38,
   "metadata": {
    "execution": {
     "iopub.execute_input": "2023-02-02T17:41:18.989096Z",
     "iopub.status.busy": "2023-02-02T17:41:18.988113Z",
     "iopub.status.idle": "2023-02-02T17:41:18.990976Z",
     "shell.execute_reply": "2023-02-02T17:41:18.990436Z",
     "shell.execute_reply.started": "2022-10-15T08:24:44.183476Z"
    },
    "papermill": {
     "duration": 0.105478,
     "end_time": "2023-02-02T17:41:18.991142",
     "exception": false,
     "start_time": "2023-02-02T17:41:18.885664",
     "status": "completed"
    },
    "tags": []
   },
   "outputs": [],
   "source": [
    "from sklearn.neighbors import KNeighborsClassifier"
   ]
  },
  {
   "cell_type": "code",
   "execution_count": 39,
   "metadata": {
    "execution": {
     "iopub.execute_input": "2023-02-02T17:41:19.144481Z",
     "iopub.status.busy": "2023-02-02T17:41:19.143790Z",
     "iopub.status.idle": "2023-02-02T17:41:19.146854Z",
     "shell.execute_reply": "2023-02-02T17:41:19.146247Z",
     "shell.execute_reply.started": "2022-10-15T08:24:44.191261Z"
    },
    "papermill": {
     "duration": 0.080211,
     "end_time": "2023-02-02T17:41:19.146969",
     "exception": false,
     "start_time": "2023-02-02T17:41:19.066758",
     "status": "completed"
    },
    "tags": []
   },
   "outputs": [],
   "source": [
    "classifier_knn = KNeighborsClassifier(leaf_size = 1, n_neighbors = 3,p = 1)"
   ]
  },
  {
   "cell_type": "markdown",
   "metadata": {
    "papermill": {
     "duration": 0.070923,
     "end_time": "2023-02-02T17:41:19.290711",
     "exception": false,
     "start_time": "2023-02-02T17:41:19.219788",
     "status": "completed"
    },
    "tags": []
   },
   "source": [
    "#### Model based on Correlation Plot :"
   ]
  },
  {
   "cell_type": "code",
   "execution_count": 40,
   "metadata": {
    "execution": {
     "iopub.execute_input": "2023-02-02T17:41:19.439987Z",
     "iopub.status.busy": "2023-02-02T17:41:19.439334Z",
     "iopub.status.idle": "2023-02-02T17:41:22.761953Z",
     "shell.execute_reply": "2023-02-02T17:41:22.761368Z",
     "shell.execute_reply.started": "2022-10-15T08:24:44.205532Z"
    },
    "papermill": {
     "duration": 3.398899,
     "end_time": "2023-02-02T17:41:22.762125",
     "exception": false,
     "start_time": "2023-02-02T17:41:19.363226",
     "status": "completed"
    },
    "tags": []
   },
   "outputs": [
    {
     "name": "stdout",
     "output_type": "stream",
     "text": [
      "Cross Validation Score :  99.42%\n",
      "ROC_AUC Score :  98.48%\n"
     ]
    },
    {
     "data": {
      "image/png": "[encoded data removed]",
      "text/plain": [
       "<Figure size 432x288 with 1 Axes>"
      ]
     },
     "metadata": {
      "needs_background": "light"
     },
     "output_type": "display_data"
    },
    {
     "name": "stdout",
     "output_type": "stream",
     "text": [
      "              precision    recall  f1-score   support\n",
      "\n",
      "           0       0.99      0.98      0.99       975\n",
      "           1       0.97      0.99      0.98       501\n",
      "\n",
      "    accuracy                           0.98      1476\n",
      "   macro avg       0.98      0.98      0.98      1476\n",
      "weighted avg       0.98      0.98      0.98      1476\n",
      "\n"
     ]
    },
    {
     "data": {
      "image/png": "[encoded data removed]",
      "text/plain": [
       "<Figure size 432x288 with 2 Axes>"
      ]
     },
     "metadata": {
      "needs_background": "light"
     },
     "output_type": "display_data"
    }
   ],
   "source": [
    "model(classifier_knn,x_train1,y_train1,x_test1,y_test1)\n",
    "model_evaluation(classifier_knn,x_test1,y_test1)"
   ]
  },
  {
   "cell_type": "markdown",
   "metadata": {
    "papermill": {
     "duration": 0.074277,
     "end_time": "2023-02-02T17:41:22.910890",
     "exception": false,
     "start_time": "2023-02-02T17:41:22.836613",
     "status": "completed"
    },
    "tags": []
   },
   "source": [
    "#### Model based on ANOVA Score :"
   ]
  },
  {
   "cell_type": "code",
   "execution_count": 41,
   "metadata": {
    "execution": {
     "iopub.execute_input": "2023-02-02T17:41:23.063145Z",
     "iopub.status.busy": "2023-02-02T17:41:23.062489Z",
     "iopub.status.idle": "2023-02-02T17:41:32.800079Z",
     "shell.execute_reply": "2023-02-02T17:41:32.798892Z",
     "shell.execute_reply.started": "2022-10-15T08:24:47.78777Z"
    },
    "papermill": {
     "duration": 9.814882,
     "end_time": "2023-02-02T17:41:32.800215",
     "exception": false,
     "start_time": "2023-02-02T17:41:22.985333",
     "status": "completed"
    },
    "tags": []
   },
   "outputs": [
    {
     "name": "stdout",
     "output_type": "stream",
     "text": [
      "Cross Validation Score :  99.46%\n",
      "ROC_AUC Score :  98.33%\n"
     ]
    },
    {
     "data": {
      "image/png": "[encoded data removed]",
      "text/plain": [
       "<Figure size 432x288 with 1 Axes>"
      ]
     },
     "metadata": {
      "needs_background": "light"
     },
     "output_type": "display_data"
    },
    {
     "name": "stdout",
     "output_type": "stream",
     "text": [
      "              precision    recall  f1-score   support\n",
      "\n",
      "           0       0.99      0.98      0.99       975\n",
      "           1       0.97      0.98      0.98       501\n",
      "\n",
      "    accuracy                           0.98      1476\n",
      "   macro avg       0.98      0.98      0.98      1476\n",
      "weighted avg       0.98      0.98      0.98      1476\n",
      "\n"
     ]
    },
    {
     "data": {
      "image/png": "[encoded data removed]",
      "text/plain": [
       "<Figure size 432x288 with 2 Axes>"
      ]
     },
     "metadata": {
      "needs_background": "light"
     },
     "output_type": "display_data"
    }
   ],
   "source": [
    "model(classifier_knn,x_train2,y_train2,x_test2,y_test2)\n",
    "model_evaluation(classifier_knn,x_test2,y_test2)"
   ]
  },
  {
   "cell_type": "markdown",
   "metadata": {
    "papermill": {
     "duration": 0.076473,
     "end_time": "2023-02-02T17:41:32.953874",
     "exception": false,
     "start_time": "2023-02-02T17:41:32.877401",
     "status": "completed"
    },
    "tags": []
   },
   "source": [
    "### ML Alogrithm Results Table :\n",
    "\n",
    "#### Results Table for models based on Correlation Plot : \n",
    "\n",
    "|Sr. No.|ML Algorithm|Cross Validation Score|ROC AUC Score|F1 Score (Fraud)|\n",
    "|-|-|-|-|-|\n",
    "|1|Logistic Regression|98.01%|92.35%|91%|\n",
    "|2|Support Vector Classifier|97.94%|92.10%|91%|\n",
    "|3|Decision Tree Classifier|96.67%|91.36%|90%|\n",
    "|4|Random Forest Classifier|97.84%|91.71%|91%|\n",
    "|5|K-Nearest Neighbors|99.34%|97.63%|97%|\n",
    " \n",
    "#### Results Table for models based on ANOVA Score :\n",
    "\n",
    "|Sr. No.|ML Algorithm|Cross Validation Score|ROC AUC Score|F1 Score (Fraud)|\n",
    "|-|-|-|-|-|\n",
    "|1|Logistic Regression|98.45%|94.69%|94%|\n",
    "|2|Support Vector Classifier|98.32%|94.40%|94%|\n",
    "|3|Decision Tree Classifier|97.13%|93.69%|93%|\n",
    "|4|Random Forest Classifier|98.20%|94.06%|94%|\n",
    "|5|K-Nearest Neighbors|99.54%|98.47%|97%|"
   ]
  },
  {
   "cell_type": "markdown",
   "metadata": {
    "papermill": {
     "duration": 0.076822,
     "end_time": "2023-02-02T17:41:33.107075",
     "exception": false,
     "start_time": "2023-02-02T17:41:33.030253",
     "status": "completed"
    },
    "tags": []
   },
   "source": [
    "# <center><div style=\"font-family: Trebuchet MS; background-color: #3B3B3C; color: #FFD700; padding: 12px; line-height: 1;\">Conclusion</div></center>\n",
    "\n",
    "- This is a great dataset to learn about binary classification problem with unbalanced data.\n",
    "\n",
    "\n",
    "- As the features are disguised, feature selection cannot be assisted based on the domain knowledge of the topic. Statistical tests hold the complete importance to select features for modeling.  \n",
    "\n",
    "\n",
    "- Due to the use of SMOTE analysis for balancing the data, the models trained on this synthetic data cannot be evaluated using accuracy. Hence, we resort to Cross Validation Score and ROC-AUC Score for model evaluation.\n",
    "\n",
    "- In term of model based on Correlation plot and ANOVA Score, among all machine learning algorithm results, we have found out the k-Nearest Neighbour with ANOVA test as feature selection technique is the best model according to cross validation score, ROC AUC Score and F1 Score."
   ]
  }
 ],
 "metadata": {
  "kernelspec": {
   "display_name": "Python 3",
   "language": "python",
   "name": "python3"
  },
  "language_info": {
   "codemirror_mode": {
    "name": "ipython",
    "version": 3
   },
   "file_extension": ".py",
   "mimetype": "text/x-python",
   "name": "python",
   "nbconvert_exporter": "python",
   "pygments_lexer": "ipython3",
   "version": "3.7.6"
  },
  "papermill": {
   "duration": 112.7151,
   "end_time": "2023-02-02T17:41:33.290951",
   "environment_variables": {},
   "exception": null,
   "input_path": "__notebook__.ipynb",
   "output_path": "__notebook__.ipynb",
   "parameters": {},
   "start_time": "2023-02-02T17:39:40.575851",
   "version": "2.1.0"
  }
 },
 "nbformat": 4,
 "nbformat_minor": 4
}
